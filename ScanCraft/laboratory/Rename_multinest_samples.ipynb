{
 "cells": [
  {
   "cell_type": "code",
   "execution_count": 1,
   "metadata": {},
   "outputs": [],
   "source": [
    "%matplotlib inline\n",
    "%load_ext autoreload\n",
    "%autoreload 2\n",
    "\n",
    "import sys,pandas,os\n",
    "sys.path.append('/home/heyangle/Desktop/ScanCraft/ScanCraft')\n",
    "sys.path.append('/home/vooum/Desktop/ScanCraft/ScanCraft')\n",
    "sys.path.append('C://Users//vooum//Desktop//ScanCraft//ScanCraft')"
   ]
  },
  {
   "cell_type": "code",
   "execution_count": 2,
   "metadata": {},
   "outputs": [],
   "source": [
    "from command.file_operations.GetSamples import GetSampleDictWithFucn"
   ]
  },
  {
   "cell_type": "code",
   "execution_count": 3,
   "metadata": {},
   "outputs": [],
   "source": [
    "def GetNumber(filename):\n",
    "    front,num=filename.split('_')\n",
    "    idx_position=-1\n",
    "    while front[idx_position-1:].isdigit():\n",
    "        idx_position+=-1\n",
    "    idx=int(front[idx_position:])\n",
    "    num=int(num)\n",
    "    return (idx,num)"
   ]
  },
  {
   "cell_type": "code",
   "execution_count": 6,
   "metadata": {},
   "outputs": [],
   "source": [
    "path='./Results01/'\n",
    "MN_results_dir=os.path.join(path,'./Results/spectrs/')\n",
    "new_data_dir=os.path.join(path,'./data/')\n",
    "MN_sample_dict=GetSampleDictWithFucn(path=MN_results_dir,patterns=['inp','spectr','omega'],number_function=GetNumber)"
   ]
  },
  {
   "cell_type": "code",
   "execution_count": 7,
   "metadata": {},
   "outputs": [],
   "source": [
    "for cps in MN_sample_dict.values():\n",
    "    if len(cps)!=3:\n",
    "        print(cps)"
   ]
  },
  {
   "cell_type": "code",
   "execution_count": 8,
   "metadata": {},
   "outputs": [
    {
     "data": {
      "text/plain": [
       "[0, 1, 2, 3, 4, 5, 6, 7, 8, 9, 10, 11, 12, 13, 14, 15, 16, 17]"
      ]
     },
     "execution_count": 8,
     "metadata": {},
     "output_type": "execute_result"
    }
   ],
   "source": [
    "indexs=sorted(list(set([i[0] for i in MN_sample_dict.keys()])))\n",
    "indexs"
   ]
  },
  {
   "cell_type": "code",
   "execution_count": 9,
   "metadata": {},
   "outputs": [
    {
     "data": {
      "text/plain": [
       "{0: 'Results01/data/data00',\n",
       " 1: 'Results01/data/data01',\n",
       " 2: 'Results01/data/data02',\n",
       " 3: 'Results01/data/data03',\n",
       " 4: 'Results01/data/data04',\n",
       " 5: 'Results01/data/data05',\n",
       " 6: 'Results01/data/data06',\n",
       " 7: 'Results01/data/data07',\n",
       " 8: 'Results01/data/data08',\n",
       " 9: 'Results01/data/data09',\n",
       " 10: 'Results01/data/data10',\n",
       " 11: 'Results01/data/data11',\n",
       " 12: 'Results01/data/data12',\n",
       " 13: 'Results01/data/data13',\n",
       " 14: 'Results01/data/data14',\n",
       " 15: 'Results01/data/data15',\n",
       " 16: 'Results01/data/data16',\n",
       " 17: 'Results01/data/data17'}"
      ]
     },
     "execution_count": 9,
     "metadata": {},
     "output_type": "execute_result"
    }
   ],
   "source": [
    "data_dirs=dict([\n",
    "    (i, os.path.normpath(os.path.join(new_data_dir,f'./data{i:02}')) )\n",
    "    for i in indexs\n",
    "])\n",
    "data_dirs"
   ]
  },
  {
   "cell_type": "code",
   "execution_count": 10,
   "metadata": {},
   "outputs": [],
   "source": [
    "for i in data_dirs.values():\n",
    "    os.makedirs(i)"
   ]
  },
  {
   "cell_type": "code",
   "execution_count": 11,
   "metadata": {},
   "outputs": [
    {
     "data": {
      "text/plain": [
       "{0: {},\n",
       " 1: {},\n",
       " 2: {},\n",
       " 3: {},\n",
       " 4: {},\n",
       " 5: {},\n",
       " 6: {},\n",
       " 7: {},\n",
       " 8: {},\n",
       " 9: {},\n",
       " 10: {},\n",
       " 11: {},\n",
       " 12: {},\n",
       " 13: {},\n",
       " 14: {},\n",
       " 15: {},\n",
       " 16: {},\n",
       " 17: {}}"
      ]
     },
     "execution_count": 11,
     "metadata": {},
     "output_type": "execute_result"
    }
   ],
   "source": [
    "sample_idx=dict.fromkeys(indexs,{})\n",
    "sample_idx"
   ]
  },
  {
   "cell_type": "code",
   "execution_count": 12,
   "metadata": {},
   "outputs": [],
   "source": [
    "for idx,cps in MN_sample_dict.items():\n",
    "    idxi=idx[0]\n",
    "    number=idx[1]\n",
    "    sample_idx[idxi].update({number:cps})"
   ]
  },
  {
   "cell_type": "code",
   "execution_count": 13,
   "metadata": {
    "scrolled": false
   },
   "outputs": [
    {
     "name": "stdout",
     "output_type": "stream",
     "text": [
      "Results01/data/data00\n",
      "Results01/data/data01\n",
      "Results01/data/data02\n",
      "Results01/data/data03\n",
      "Results01/data/data04\n",
      "Results01/data/data05\n",
      "Results01/data/data06\n",
      "Results01/data/data07\n",
      "Results01/data/data08\n",
      "Results01/data/data09\n",
      "Results01/data/data10\n",
      "Results01/data/data11\n",
      "Results01/data/data12\n",
      "Results01/data/data13\n",
      "Results01/data/data14\n",
      "Results01/data/data15\n",
      "Results01/data/data16\n",
      "Results01/data/data17\n"
     ]
    }
   ],
   "source": [
    "new_sample_idx=dict.fromkeys(indexs,[])\n",
    "for i,new_path in data_dirs.items():\n",
    "    print(new_path)\n",
    "    for n,kn in enumerate(sorted(list(sample_idx[i].keys()))):\n",
    "        destination={\n",
    "            'inp':os.path.join(new_path,f'inp.dat.{n}'),\n",
    "            'spectr':os.path.join(new_path,f'spectr.dat.{n}'),\n",
    "            'omega':os.path.join(new_path,f'omega.dat.{n}')\n",
    "        }\n",
    "        copyed_cps=sample_idx[i][kn].CopyTo(destination)\n",
    "        new_sample_idx[i].append(copyed_cps)"
   ]
  },
  {
   "cell_type": "code",
   "execution_count": 17,
   "metadata": {},
   "outputs": [
    {
     "name": "stdout",
     "output_type": "stream",
     "text": [
      "0 1\n"
     ]
    }
   ],
   "source": [
    "print(i,kn)"
   ]
  },
  {
   "cell_type": "code",
   "execution_count": 18,
   "metadata": {},
   "outputs": [
    {
     "data": {
      "text/plain": [
       "{'inp': '/home/vooum/Desktop/muon_G_2/Results2_0326/Results/spectrs/inp14_1',\n",
       " 'spectr': '/home/vooum/Desktop/muon_G_2/Results2_0326/Results/spectrs/spectr14_1'}"
      ]
     },
     "execution_count": 18,
     "metadata": {},
     "output_type": "execute_result"
    }
   ],
   "source": [
    "sample_idx[i][kn]"
   ]
  },
  {
   "cell_type": "code",
   "execution_count": 21,
   "metadata": {},
   "outputs": [
    {
     "data": {
      "text/plain": [
       "{'inp': '/home/vooum/Desktop/muon_G_2/Results2_0326/Results/spectrs/inp14_1',\n",
       " 'spectr': '/home/vooum/Desktop/muon_G_2/Results2_0326/Results/spectrs/spectr14_1'}"
      ]
     },
     "execution_count": 21,
     "metadata": {},
     "output_type": "execute_result"
    }
   ],
   "source": [
    "MN_sample_dict[(14,1)]"
   ]
  },
  {
   "cell_type": "code",
   "execution_count": null,
   "metadata": {},
   "outputs": [],
   "source": []
  }
 ],
 "metadata": {
  "kernelspec": {
   "display_name": "Python 3",
   "language": "python",
   "name": "python3"
  },
  "language_info": {
   "codemirror_mode": {
    "name": "ipython",
    "version": 3
   },
   "file_extension": ".py",
   "mimetype": "text/x-python",
   "name": "python",
   "nbconvert_exporter": "python",
   "pygments_lexer": "ipython3",
   "version": "3.7.5"
  }
 },
 "nbformat": 4,
 "nbformat_minor": 2
}
