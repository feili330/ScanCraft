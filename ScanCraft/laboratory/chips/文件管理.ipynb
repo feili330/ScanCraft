{
 "cells": [
  {
   "cell_type": "markdown",
   "metadata": {},
   "source": [
    "# 文件管理\n",
    "目标：把文件树中的文件收集起来，加上标签，这样可以用标签对文件树内的文件进行筛选"
   ]
  },
  {
   "cell_type": "markdown",
   "metadata": {},
   "source": [
    "## python 方法\n",
    "打开一个其它程序(如gedit)的窗口\n",
    "```\n",
    "r=os.popen('gedit')\n",
    "```\n",
    "```\n",
    "r.close()\n",
    "```\n",
    "阻塞至该程序的窗口关闭"
   ]
  }
 ],
 "metadata": {
  "kernelspec": {
   "display_name": "Python 3",
   "language": "python",
   "name": "python3"
  },
  "language_info": {
   "codemirror_mode": {
    "name": "ipython",
    "version": 3
   },
   "file_extension": ".py",
   "mimetype": "text/x-python",
   "name": "python",
   "nbconvert_exporter": "python",
   "pygments_lexer": "ipython3",
   "version": "3.6.9"
  }
 },
 "nbformat": 4,
 "nbformat_minor": 2
}
