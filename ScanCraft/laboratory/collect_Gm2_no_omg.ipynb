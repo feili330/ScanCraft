{
 "cells": [
  {
   "cell_type": "code",
   "execution_count": 1,
   "metadata": {},
   "outputs": [],
   "source": [
    "%matplotlib inline\n",
    "%load_ext autoreload\n",
    "%autoreload 2\n",
    "\n",
    "import sys,os\n",
    "sys.path.append('/home/heyangle/Desktop/ScanCraft/ScanCraft')\n",
    "sys.path.append('/home/vooum/Desktop/ScanCraft/ScanCraft')\n",
    "sys.path.append('C://Users//vooum//Desktop//ScanCraft//ScanCraft')"
   ]
  },
  {
   "cell_type": "markdown",
   "metadata": {},
   "source": [
    "# collect all sample documents"
   ]
  },
  {
   "cell_type": "code",
   "execution_count": 2,
   "metadata": {},
   "outputs": [],
   "source": [
    "import pandas,numpy,copy\n",
    "from command.file_operations.GetDirectories import GetDirectories\n",
    "from command.file_operations.GetSamples import GetSamples"
   ]
  },
  {
   "cell_type": "code",
   "execution_count": 3,
   "metadata": {},
   "outputs": [],
   "source": [
    "# get all folders from folder_path, folders' name should contain folder_key\n",
    "folder_path='./data_no_omg/'\n",
    "folder_key='data'\n",
    "folders=GetDirectories(path=folder_path,keyword=folder_key,numbered=True)"
   ]
  },
  {
   "cell_type": "code",
   "execution_count": 38,
   "metadata": {},
   "outputs": [],
   "source": [
    "# get all spectrum files from subfolder(if not exist, set to '') in each folders\n",
    "subfolder=''\n",
    "sample_collect=[\n",
    "    GetSamples( path=os.path.join( folder,subfolder), patterns=['inp','spectr','omega'],number_position=-1 )\n",
    "    for folder in folders\n",
    "]"
   ]
  },
  {
   "cell_type": "code",
   "execution_count": 39,
   "metadata": {},
   "outputs": [],
   "source": [
    "samples=sum(sample_collect,[])"
   ]
  },
  {
   "cell_type": "code",
   "execution_count": 40,
   "metadata": {},
   "outputs": [
    {
     "data": {
      "text/plain": [
       "dict_items([('spectr', '/home/vooum/Desktop/muon_G_2/data_no_omg/data17/spectr.dat.11559'), ('inp', '/home/vooum/Desktop/muon_G_2/data_no_omg/data17/inp.dat.11559'), ('omega', '/home/vooum/Desktop/muon_G_2/data_no_omg/data17/omega.dat.11559')])"
      ]
     },
     "execution_count": 40,
     "metadata": {},
     "output_type": "execute_result"
    }
   ],
   "source": [
    "samples[-1].items()"
   ]
  },
  {
   "cell_type": "code",
   "execution_count": 7,
   "metadata": {
    "scrolled": true
   },
   "outputs": [
    {
     "data": {
      "text/plain": [
       "47326"
      ]
     },
     "execution_count": 7,
     "metadata": {},
     "output_type": "execute_result"
    }
   ],
   "source": [
    "len(samples)"
   ]
  },
  {
   "cell_type": "markdown",
   "metadata": {},
   "source": [
    "# Get all spectrum text"
   ]
  },
  {
   "cell_type": "code",
   "execution_count": 9,
   "metadata": {},
   "outputs": [],
   "source": [
    "from multiprocessing import Pool\n",
    "def get_spectr_text(sample):\n",
    "    spectr_file=sample['spectr']\n",
    "    with open(spectr_file,'r') as spec:\n",
    "        text=spec.readlines()\n",
    "    return text\n",
    "with Pool(6) as P:\n",
    "    text_list=P.map(get_spectr_text,samples)"
   ]
  },
  {
   "cell_type": "markdown",
   "metadata": {},
   "source": [
    "# Read spectrum files"
   ]
  },
  {
   "cell_type": "code",
   "execution_count": 34,
   "metadata": {},
   "outputs": [],
   "source": [
    "from command.nexus.NMSSMTools import NToolsOutput\n",
    "spectrum_list=[\n",
    "    NToolsOutput(text=text) for text in text_list\n",
    "]\n",
    "# old, not recommended\n",
    "# for sample,text in zip(samples,text_list):\n",
    "#     sample.spectr=NToolsOutput(text=text)"
   ]
  },
  {
   "cell_type": "code",
   "execution_count": 35,
   "metadata": {},
   "outputs": [
    {
     "data": {
      "text/plain": [
       "['# DM relic density too large',\n",
       " '# Muon magn. mom. more than 2 sigma away',\n",
       " '# No Higgs in the 122.1-128.1 GeV mass range',\n",
       " '# b -> c tau nu more than 2 sigma away (as SM)',\n",
       " '# k_bot(H_SM) more than 2 sigma away (as SM)',\n",
       " '# k_tau(H_SM) more than 2 sigma away (as SM)']"
      ]
     },
     "execution_count": 35,
     "metadata": {},
     "output_type": "execute_result"
    }
   ],
   "source": [
    "spectrum_list[-1].constraints"
   ]
  },
  {
   "cell_type": "code",
   "execution_count": 21,
   "metadata": {},
   "outputs": [
    {
     "data": {
      "text/plain": [
       "{'# B_bsm(H_SM) more than 2 sigma away',\n",
       " '# B_s -> mu+ mu- more than 2 sigma away',\n",
       " '# DM direct detection rate too large (SI)',\n",
       " '# DM relic density too large',\n",
       " '# DM relic density too small',\n",
       " '# Landau Pole below MGUT',\n",
       " '# Muon magn. mom. more than 2 sigma away',\n",
       " '# No Higgs in the 122.1-128.1 GeV mass range',\n",
       " '# b -> c tau nu more than 2 sigma away (as SM)',\n",
       " '# b -> s gamma more than 2 sigma away',\n",
       " '# k_bot(H_SM) more than 2 sigma away (as SM)',\n",
       " '# k_tau(H_SM) more than 2 sigma away (as SM)'}"
      ]
     },
     "execution_count": 21,
     "metadata": {},
     "output_type": "execute_result"
    }
   ],
   "source": [
    "# all constraints\n",
    "consts=set()\n",
    "for spec in spectrum_list:\n",
    "    consts.update(spec.constraints)\n",
    "consts"
   ]
  },
  {
   "cell_type": "code",
   "execution_count": 22,
   "metadata": {},
   "outputs": [],
   "source": [
    "ignores=['Landau Pole'#27\n",
    "        ,'DM direct detection'\n",
    "        ,'relic density'\n",
    "#         ,'Muon magn'#37\n",
    "        ,'b -> c tau nu'#58 always keep alive\n",
    "        ,'k_bot(H_SM)'\n",
    "        ,'k_tau(H_SM)'\n",
    "        ,'B_bsm(H_SM)'\n",
    "        ]"
   ]
  },
  {
   "cell_type": "code",
   "execution_count": 23,
   "metadata": {},
   "outputs": [],
   "source": [
    "def data_forX2(spectr):\n",
    "    mN=spectr('mass',1000022)\n",
    "    xz=spectr('REDCOUP',(1,5))\n",
    "    xw=xz\n",
    "    xb=spectr('REDCOUP',(1,3))\n",
    "    xt=spectr('REDCOUP',(1,1))\n",
    "    xtau=spectr('REDCOUP',(1,4))\n",
    "    xg=spectr('REDCOUP',(1,7))\n",
    "    xj=spectr('REDCOUP',(1,6))\n",
    "    return{\n",
    "        'mh':spectr('mass',25)\n",
    "        ,'bsg':spectr('LOWEN',1)\n",
    "        ,'bmu':spectr('LOWEN',4)\n",
    "        ,'relic':spectr('LOWEN',10)\n",
    "        ,'Psi':(mN,spectr('LOWEN',20))\n",
    "        ,'Nsd':(mN,spectr('LOWEN',30))\n",
    "        ,'Psd':(mN,spectr('LOWEN',40))\n",
    "        ,'Higgs_coupling':(xz,xw,xb,xt,xtau,xg,xj)\n",
    "    }"
   ]
  },
  {
   "cell_type": "code",
   "execution_count": 25,
   "metadata": {},
   "outputs": [],
   "source": [
    "# Chisquare\n",
    "from command.Experiments.Chi_square_Test import Chisq\n",
    "X2_list=[Chisq(**data_forX2(spec)) for spec in spectrum_list]"
   ]
  },
  {
   "cell_type": "code",
   "execution_count": 26,
   "metadata": {},
   "outputs": [
    {
     "data": {
      "text/plain": [
       "{'mh': 6.054038309255542,\n",
       " 'bsg': 0.05805461983822662,\n",
       " 'bmu': 2.758435843230604,\n",
       " 'relic': 1.0186620016551746,\n",
       " 'Psi': 0.0,\n",
       " 'Nsd': 0.0,\n",
       " 'Psd': 0.0,\n",
       " 'Higgs_coupling': 2.620038875129047}"
      ]
     },
     "execution_count": 26,
     "metadata": {},
     "output_type": "execute_result"
    }
   ],
   "source": [
    "X2_list[-1]"
   ]
  },
  {
   "cell_type": "code",
   "execution_count": 27,
   "metadata": {},
   "outputs": [],
   "source": [
    "def good(spectr,X2):\n",
    "    spectr.ignore=ignores\n",
    "    if spectr.error : return False\n",
    "    if spectr.constraints : return False\n",
    "    if X2['Higgs_coupling']>14.067: return False\n",
    "    return True"
   ]
  },
  {
   "cell_type": "code",
   "execution_count": 42,
   "metadata": {},
   "outputs": [
    {
     "data": {
      "text/plain": [
       "2535"
      ]
     },
     "execution_count": 42,
     "metadata": {},
     "output_type": "execute_result"
    }
   ],
   "source": [
    "good_samples=[[sample,spec,chi2] for sample,spec,chi2 in zip(samples,spectrum_list,X2_list) if good(spec,chi2)]\n",
    "len(good_samples)"
   ]
  },
  {
   "cell_type": "code",
   "execution_count": 43,
   "metadata": {},
   "outputs": [
    {
     "data": {
      "text/plain": [
       "[{'spectr': '/home/vooum/Desktop/muon_G_2/data_no_omg/data17/spectr.dat.11544',\n",
       "  'omega': '/home/vooum/Desktop/muon_G_2/data_no_omg/data17/omega.dat.11544',\n",
       "  'inp': '/home/vooum/Desktop/muon_G_2/data_no_omg/data17/inp.dat.11544'},\n",
       " <command.nexus.NMSSMTools.NToolsOutput at 0x7f9ddf70a390>,\n",
       " {'mh': 0.2124261679063072,\n",
       "  'bsg': 1.9585604749387735,\n",
       "  'bmu': 1.4540110969376312,\n",
       "  'relic': 1.3641173372155373,\n",
       "  'Psi': 0.0,\n",
       "  'Nsd': 0.0,\n",
       "  'Psd': 0.0,\n",
       "  'Higgs_coupling': 2.4915196364414207}]"
      ]
     },
     "execution_count": 43,
     "metadata": {},
     "output_type": "execute_result"
    }
   ],
   "source": [
    "good_samples[-1]"
   ]
  },
  {
   "cell_type": "code",
   "execution_count": 45,
   "metadata": {},
   "outputs": [],
   "source": [
    "number=0\n",
    "path='./good_no_omg/'\n",
    "for sample,spec,chi2 in good_samples:\n",
    "    dest={'inp':os.path.join(path,f'inp.dat.{number}'),\n",
    "          'spectr':os.path.join(path,f'spectr.dat.{number}'),\n",
    "          'omega':os.path.join(path,f'omega.dat.{number}')\n",
    "         }\n",
    "    sample.CopyTo(dest)\n",
    "    number+=1"
   ]
  },
  {
   "cell_type": "code",
   "execution_count": null,
   "metadata": {},
   "outputs": [],
   "source": []
  },
  {
   "cell_type": "code",
   "execution_count": null,
   "metadata": {},
   "outputs": [],
   "source": []
  },
  {
   "cell_type": "code",
   "execution_count": null,
   "metadata": {},
   "outputs": [],
   "source": []
  },
  {
   "cell_type": "code",
   "execution_count": null,
   "metadata": {},
   "outputs": [],
   "source": []
  },
  {
   "cell_type": "code",
   "execution_count": null,
   "metadata": {},
   "outputs": [],
   "source": []
  }
 ],
 "metadata": {
  "kernelspec": {
   "display_name": "Python 3",
   "language": "python",
   "name": "python3"
  },
  "language_info": {
   "codemirror_mode": {
    "name": "ipython",
    "version": 3
   },
   "file_extension": ".py",
   "mimetype": "text/x-python",
   "name": "python",
   "nbconvert_exporter": "python",
   "pygments_lexer": "ipython3",
   "version": "3.7.5"
  }
 },
 "nbformat": 4,
 "nbformat_minor": 2
}
