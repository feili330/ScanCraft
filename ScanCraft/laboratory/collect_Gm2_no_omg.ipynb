{
 "cells": [
  {
   "cell_type": "code",
   "execution_count": 1,
   "metadata": {},
   "outputs": [],
   "source": [
    "%matplotlib inline\n",
    "%load_ext autoreload\n",
    "%autoreload 2\n",
    "\n",
    "import sys,os\n",
    "sys.path.append('/home/heyangle/Desktop/ScanCraft/ScanCraft')\n",
    "sys.path.append('/home/vooum/Desktop/ScanCraft/ScanCraft')\n",
    "sys.path.append('C://Users//vooum//Desktop//ScanCraft//ScanCraft')"
   ]
  },
  {
   "cell_type": "markdown",
   "metadata": {},
   "source": [
    "# collect all sample documents"
   ]
  },
  {
   "cell_type": "code",
   "execution_count": 3,
   "metadata": {},
   "outputs": [],
   "source": [
    "import pandas,numpy,copy\n",
    "from command.file_operations.GetDirectories import GetDirectories\n",
    "from command.file_operations.GetSamples import GetSamples"
   ]
  },
  {
   "cell_type": "code",
   "execution_count": 3,
   "metadata": {},
   "outputs": [],
   "source": [
    "# get all folders from folder_path, folders' name should contain folder_key\n",
    "folder_path='./data_no_omg/'\n",
    "folder_key='data'\n",
    "folders=GetDirectories(path=folder_path,keyword=folder_key,numbered=True)"
   ]
  },
  {
   "cell_type": "code",
   "execution_count": 38,
   "metadata": {},
   "outputs": [],
   "source": [
    "# get all spectrum files from subfolder(if not exist, set to '') in each folders\n",
    "subfolder=''\n",
    "sample_collect=[\n",
    "    GetSamples( path=os.path.join( folder,subfolder), patterns=['inp','spectr','omega'],number_position=-1 )\n",
    "    for folder in folders\n",
    "]"
   ]
  },
  {
   "cell_type": "code",
   "execution_count": 39,
   "metadata": {},
   "outputs": [],
   "source": [
    "samples=sum(sample_collect,[])"
   ]
  },
  {
   "cell_type": "code",
   "execution_count": 40,
   "metadata": {},
   "outputs": [
    {
     "data": {
      "text/plain": [
       "dict_items([('spectr', '/home/vooum/Desktop/muon_G_2/data_no_omg/data17/spectr.dat.11559'), ('inp', '/home/vooum/Desktop/muon_G_2/data_no_omg/data17/inp.dat.11559'), ('omega', '/home/vooum/Desktop/muon_G_2/data_no_omg/data17/omega.dat.11559')])"
      ]
     },
     "execution_count": 40,
     "metadata": {},
     "output_type": "execute_result"
    }
   ],
   "source": [
    "samples[-1].items()"
   ]
  },
  {
   "cell_type": "code",
   "execution_count": 7,
   "metadata": {
    "scrolled": true
   },
   "outputs": [
    {
     "data": {
      "text/plain": [
       "47326"
      ]
     },
     "execution_count": 7,
     "metadata": {},
     "output_type": "execute_result"
    }
   ],
   "source": [
    "len(samples)"
   ]
  },
  {
   "cell_type": "markdown",
   "metadata": {},
   "source": [
    "# Get all spectrum text"
   ]
  },
  {
   "cell_type": "code",
   "execution_count": 9,
   "metadata": {},
   "outputs": [],
   "source": [
    "from multiprocessing import Pool\n",
    "def get_spectr_text(sample):\n",
    "    spectr_file=sample['spectr']\n",
    "    with open(spectr_file,'r') as spec:\n",
    "        text=spec.readlines()\n",
    "    return text\n",
    "with Pool(6) as P:\n",
    "    text_list=P.map(get_spectr_text,samples)"
   ]
  },
  {
   "cell_type": "markdown",
   "metadata": {},
   "source": [
    "# Read spectrum files"
   ]
  },
  {
   "cell_type": "code",
   "execution_count": 34,
   "metadata": {},
   "outputs": [],
   "source": [
    "from command.nexus.NMSSMTools import NToolsOutput\n",
    "spectrum_list=[\n",
    "    NToolsOutput(text=text) for text in text_list\n",
    "]\n",
    "# old, not recommended\n",
    "# for sample,text in zip(samples,text_list):\n",
    "#     sample.spectr=NToolsOutput(text=text)"
   ]
  },
  {
   "cell_type": "code",
   "execution_count": 35,
   "metadata": {},
   "outputs": [
    {
     "data": {
      "text/plain": [
       "['# DM relic density too large',\n",
       " '# Muon magn. mom. more than 2 sigma away',\n",
       " '# No Higgs in the 122.1-128.1 GeV mass range',\n",
       " '# b -> c tau nu more than 2 sigma away (as SM)',\n",
       " '# k_bot(H_SM) more than 2 sigma away (as SM)',\n",
       " '# k_tau(H_SM) more than 2 sigma away (as SM)']"
      ]
     },
     "execution_count": 35,
     "metadata": {},
     "output_type": "execute_result"
    }
   ],
   "source": [
    "spectrum_list[-1].constraints"
   ]
  },
  {
   "cell_type": "code",
   "execution_count": 21,
   "metadata": {},
   "outputs": [
    {
     "data": {
      "text/plain": [
       "{'# B_bsm(H_SM) more than 2 sigma away',\n",
       " '# B_s -> mu+ mu- more than 2 sigma away',\n",
       " '# DM direct detection rate too large (SI)',\n",
       " '# DM relic density too large',\n",
       " '# DM relic density too small',\n",
       " '# Landau Pole below MGUT',\n",
       " '# Muon magn. mom. more than 2 sigma away',\n",
       " '# No Higgs in the 122.1-128.1 GeV mass range',\n",
       " '# b -> c tau nu more than 2 sigma away (as SM)',\n",
       " '# b -> s gamma more than 2 sigma away',\n",
       " '# k_bot(H_SM) more than 2 sigma away (as SM)',\n",
       " '# k_tau(H_SM) more than 2 sigma away (as SM)'}"
      ]
     },
     "execution_count": 21,
     "metadata": {},
     "output_type": "execute_result"
    }
   ],
   "source": [
    "# all constraints\n",
    "consts=set()\n",
    "for spec in spectrum_list:\n",
    "    consts.update(spec.constraints)\n",
    "consts"
   ]
  },
  {
   "cell_type": "code",
   "execution_count": 22,
   "metadata": {},
   "outputs": [],
   "source": [
    "ignores=['Landau Pole'#27\n",
    "        ,'DM direct detection'\n",
    "        ,'relic density'\n",
    "#         ,'Muon magn'#37\n",
    "        ,'b -> c tau nu'#58 always keep alive\n",
    "        ,'k_bot(H_SM)'\n",
    "        ,'k_tau(H_SM)'\n",
    "        ,'B_bsm(H_SM)'\n",
    "        ]"
   ]
  },
  {
   "cell_type": "code",
   "execution_count": 23,
   "metadata": {},
   "outputs": [],
   "source": [
    "def data_forX2(spectr):\n",
    "    mN=spectr('mass',1000022)\n",
    "    xz=spectr('REDCOUP',(1,5))\n",
    "    xw=xz\n",
    "    xb=spectr('REDCOUP',(1,3))\n",
    "    xt=spectr('REDCOUP',(1,1))\n",
    "    xtau=spectr('REDCOUP',(1,4))\n",
    "    xg=spectr('REDCOUP',(1,7))\n",
    "    xj=spectr('REDCOUP',(1,6))\n",
    "    return{\n",
    "        'mh':spectr('mass',25)\n",
    "        ,'bsg':spectr('LOWEN',1)\n",
    "        ,'bmu':spectr('LOWEN',4)\n",
    "        ,'relic':spectr('LOWEN',10)\n",
    "        ,'Psi':(mN,spectr('LOWEN',20))\n",
    "        ,'Nsd':(mN,spectr('LOWEN',30))\n",
    "        ,'Psd':(mN,spectr('LOWEN',40))\n",
    "        ,'Higgs_coupling':(xz,xw,xb,xt,xtau,xg,xj)\n",
    "    }"
   ]
  },
  {
   "cell_type": "code",
   "execution_count": 25,
   "metadata": {},
   "outputs": [],
   "source": [
    "# Chisquare\n",
    "from command.Experiments.Chi_square_Test import Chisq\n",
    "X2_list=[Chisq(**data_forX2(spec)) for spec in spectrum_list]"
   ]
  },
  {
   "cell_type": "code",
   "execution_count": 26,
   "metadata": {},
   "outputs": [
    {
     "data": {
      "text/plain": [
       "{'mh': 6.054038309255542,\n",
       " 'bsg': 0.05805461983822662,\n",
       " 'bmu': 2.758435843230604,\n",
       " 'relic': 1.0186620016551746,\n",
       " 'Psi': 0.0,\n",
       " 'Nsd': 0.0,\n",
       " 'Psd': 0.0,\n",
       " 'Higgs_coupling': 2.620038875129047}"
      ]
     },
     "execution_count": 26,
     "metadata": {},
     "output_type": "execute_result"
    }
   ],
   "source": [
    "X2_list[-1]"
   ]
  },
  {
   "cell_type": "markdown",
   "metadata": {},
   "source": [
    "# filter"
   ]
  },
  {
   "cell_type": "code",
   "execution_count": 27,
   "metadata": {},
   "outputs": [],
   "source": [
    "def good(spectr,X2):\n",
    "    spectr.ignore=ignores\n",
    "    if spectr.error : return False\n",
    "    if spectr.constraints : return False\n",
    "    if X2['Higgs_coupling']>14.067: return False\n",
    "    return True"
   ]
  },
  {
   "cell_type": "code",
   "execution_count": 42,
   "metadata": {},
   "outputs": [
    {
     "data": {
      "text/plain": [
       "2535"
      ]
     },
     "execution_count": 42,
     "metadata": {},
     "output_type": "execute_result"
    }
   ],
   "source": [
    "good_samples=[[sample,spec,chi2] for sample,spec,chi2 in zip(samples,spectrum_list,X2_list) if good(spec,chi2)]\n",
    "len(good_samples)"
   ]
  },
  {
   "cell_type": "code",
   "execution_count": 43,
   "metadata": {},
   "outputs": [
    {
     "data": {
      "text/plain": [
       "[{'spectr': '/home/vooum/Desktop/muon_G_2/data_no_omg/data17/spectr.dat.11544',\n",
       "  'omega': '/home/vooum/Desktop/muon_G_2/data_no_omg/data17/omega.dat.11544',\n",
       "  'inp': '/home/vooum/Desktop/muon_G_2/data_no_omg/data17/inp.dat.11544'},\n",
       " <command.nexus.NMSSMTools.NToolsOutput at 0x7f9ddf70a390>,\n",
       " {'mh': 0.2124261679063072,\n",
       "  'bsg': 1.9585604749387735,\n",
       "  'bmu': 1.4540110969376312,\n",
       "  'relic': 1.3641173372155373,\n",
       "  'Psi': 0.0,\n",
       "  'Nsd': 0.0,\n",
       "  'Psd': 0.0,\n",
       "  'Higgs_coupling': 2.4915196364414207}]"
      ]
     },
     "execution_count": 43,
     "metadata": {},
     "output_type": "execute_result"
    }
   ],
   "source": [
    "good_samples[-1]"
   ]
  },
  {
   "cell_type": "code",
   "execution_count": 45,
   "metadata": {},
   "outputs": [],
   "source": [
    "number=0\n",
    "path='./good_no_omg/'\n",
    "for sample,spec,chi2 in good_samples:\n",
    "    dest={'inp':os.path.join(path,f'inp.dat.{number}'),\n",
    "          'spectr':os.path.join(path,f'spectr.dat.{number}'),\n",
    "          'omega':os.path.join(path,f'omega.dat.{number}')\n",
    "         }\n",
    "    sample.CopyTo(dest)\n",
    "    number+=1"
   ]
  },
  {
   "cell_type": "markdown",
   "metadata": {},
   "source": [
    "# re-collect good samples"
   ]
  },
  {
   "cell_type": "code",
   "execution_count": 4,
   "metadata": {},
   "outputs": [
    {
     "data": {
      "text/plain": [
       "{'omega': '/home/vooum/Desktop/muon_G_2/good_no_omg/omega.dat.2534',\n",
       " 'spectr': '/home/vooum/Desktop/muon_G_2/good_no_omg/spectr.dat.2534',\n",
       " 'inp': '/home/vooum/Desktop/muon_G_2/good_no_omg/inp.dat.2534'}"
      ]
     },
     "execution_count": 4,
     "metadata": {},
     "output_type": "execute_result"
    }
   ],
   "source": [
    "from command.file_operations.GetSamples import GetSamples\n",
    "good_samples=GetSamples('./good_no_omg/',patterns=['inp','spectr','omega'])\n",
    "good_samples[-1]"
   ]
  },
  {
   "cell_type": "markdown",
   "metadata": {},
   "source": [
    "# rerun"
   ]
  },
  {
   "cell_type": "code",
   "execution_count": 5,
   "metadata": {},
   "outputs": [],
   "source": [
    "from command.scan.scan import scan\n",
    "mold=scan()"
   ]
  },
  {
   "cell_type": "code",
   "execution_count": 6,
   "metadata": {},
   "outputs": [],
   "source": [
    "mold.AddScalar('tanB','MINPAR',3,1.,60.) \n",
    "mold.AddScalar('M1','EXTPAR',1  ,20.    ,2000.) \n",
    "mold.AddScalar('M2','EXTPAR',2  ,100.    ,2000.)\n",
    "mold.AddScalar('Atop','EXTPAR',11  ,  -5e3    ,5e3)\n",
    "mold.AddFollower('Abottom','EXTPAR'   ,12,'Atop')\n",
    "mold.AddScalar('Atau','EXTPAR'   ,13  ,  100.      ,2000.)\n",
    "mold.AddScalar('Amuon','EXTPAR'   ,16  ,  100.      ,2000.)\n",
    "mold.AddScalar('MtauL','EXTPAR'   ,33,100.,2000.)\n",
    "mold.AddScalar('MmuonL','EXTPAR'   ,32,100.,2000.)\n",
    "mold.AddScalar('MtauR','EXTPAR'   ,36,100.,2000.)\n",
    "mold.AddScalar('MmuonR','EXTPAR'   ,35,100.,2000.)\n",
    "# mold.AddScalar('MQ3L','EXTPAR'   ,43,\t100.,\t2.e3)#\n",
    "# mold.AddScalar('MtopR'\t,'EXTPAR'   ,46,\t100.,\t2.e3)#\n",
    "# mold.AddFollower('MbottomR','EXTPAR'  ,49,'MtopR')#\n",
    "mold.AddScalar('Lambda','EXTPAR'  ,61  ,1e-3    ,.75 ,prior_distribution='exponential')\n",
    "mold.AddScalar('Kappa','EXTPAR'   ,62 ,-0.75    ,.75 ,prior_distribution='exponential')\n",
    "# mold.AddScalar('A_Lambda','EXTPAR' ,63,-3.e3,3.e3)\n",
    "mold.AddScalar('A_kappa','EXTPAR' ,64,-2.e3,2.e3)\n",
    "mold.AddScalar('mu_eff','EXTPAR'  ,65,100.,2000.)"
   ]
  },
  {
   "cell_type": "code",
   "execution_count": 23,
   "metadata": {},
   "outputs": [],
   "source": [
    "from queue import SimpleQueue\n",
    "inp_queue=SimpleQueue()"
   ]
  },
  {
   "cell_type": "code",
   "execution_count": 24,
   "metadata": {},
   "outputs": [
    {
     "data": {
      "text/plain": [
       "10"
      ]
     },
     "execution_count": 24,
     "metadata": {},
     "output_type": "execute_result"
    }
   ],
   "source": [
    "from copy import deepcopy\n",
    "for sample in good_samples[:10]:\n",
    "    new_inp=deepcopy(mold)\n",
    "    new_inp.GetValue(sample['inp'])\n",
    "    inp_queue.put(new_inp)\n",
    "inp_queue.qsize()"
   ]
  },
  {
   "cell_type": "code",
   "execution_count": 31,
   "metadata": {},
   "outputs": [
    {
     "name": "stdout",
     "output_type": "stream",
     "text": [
      "old folder ./output has renamed to ./output_20200314_224955\n"
     ]
    }
   ],
   "source": [
    "from command.parallel.MT_NTools import MT_NTools\n",
    "MP=MT_NTools(6)"
   ]
  },
  {
   "cell_type": "code",
   "execution_count": 32,
   "metadata": {},
   "outputs": [
    {
     "name": "stdout",
     "output_type": "stream",
     "text": [
      "Calculations begin at Sat Mar 14 22:50:32 2020\n",
      "  Threads:\t6\n",
      "  points:\t10\n",
      "All points done. Use {work_time}\n",
      "all data files stored in 'all_points' attribute\n"
     ]
    },
    {
     "data": {
      "text/plain": [
       "[{'inp': 'pylon/NMSSMTools_5.5.2_prob_0/record/inp.0',\n",
       "  'spectr': 'pylon/NMSSMTools_5.5.2_prob_0/record/spectr.0',\n",
       "  'omega': 'pylon/NMSSMTools_5.5.2_prob_0/record/omega.0'},\n",
       " {'inp': 'pylon/NMSSMTools_5.5.2_prob_0/record/inp.1',\n",
       "  'spectr': 'pylon/NMSSMTools_5.5.2_prob_0/record/spectr.1',\n",
       "  'omega': 'pylon/NMSSMTools_5.5.2_prob_0/record/omega.1'},\n",
       " {'inp': 'pylon/NMSSMTools_5.5.2_prob_1/record/inp.0',\n",
       "  'spectr': 'pylon/NMSSMTools_5.5.2_prob_1/record/spectr.0',\n",
       "  'omega': 'pylon/NMSSMTools_5.5.2_prob_1/record/omega.0'},\n",
       " {'inp': 'pylon/NMSSMTools_5.5.2_prob_1/record/inp.1',\n",
       "  'spectr': 'pylon/NMSSMTools_5.5.2_prob_1/record/spectr.1',\n",
       "  'omega': 'pylon/NMSSMTools_5.5.2_prob_1/record/omega.1'},\n",
       " {'inp': 'pylon/NMSSMTools_5.5.2_prob_2/record/inp.0',\n",
       "  'spectr': 'pylon/NMSSMTools_5.5.2_prob_2/record/spectr.0',\n",
       "  'omega': 'pylon/NMSSMTools_5.5.2_prob_2/record/omega.0'},\n",
       " {'inp': 'pylon/NMSSMTools_5.5.2_prob_3/record/inp.0',\n",
       "  'spectr': 'pylon/NMSSMTools_5.5.2_prob_3/record/spectr.0',\n",
       "  'omega': 'pylon/NMSSMTools_5.5.2_prob_3/record/omega.0'},\n",
       " {'inp': 'pylon/NMSSMTools_5.5.2_prob_3/record/inp.1',\n",
       "  'spectr': 'pylon/NMSSMTools_5.5.2_prob_3/record/spectr.1',\n",
       "  'omega': 'pylon/NMSSMTools_5.5.2_prob_3/record/omega.1'},\n",
       " {'inp': 'pylon/NMSSMTools_5.5.2_prob_4/record/inp.0',\n",
       "  'spectr': 'pylon/NMSSMTools_5.5.2_prob_4/record/spectr.0',\n",
       "  'omega': 'pylon/NMSSMTools_5.5.2_prob_4/record/omega.0'},\n",
       " {'inp': 'pylon/NMSSMTools_5.5.2_prob_5/record/inp.0',\n",
       "  'spectr': 'pylon/NMSSMTools_5.5.2_prob_5/record/spectr.0',\n",
       "  'omega': 'pylon/NMSSMTools_5.5.2_prob_5/record/omega.0'},\n",
       " {'inp': 'pylon/NMSSMTools_5.5.2_prob_5/record/inp.1',\n",
       "  'spectr': 'pylon/NMSSMTools_5.5.2_prob_5/record/spectr.1',\n",
       "  'omega': 'pylon/NMSSMTools_5.5.2_prob_5/record/omega.1'}]"
      ]
     },
     "execution_count": 32,
     "metadata": {},
     "output_type": "execute_result"
    }
   ],
   "source": [
    "resutls=MP.Run(inp_queue) # results=MP.all_points"
   ]
  },
  {
   "cell_type": "code",
   "execution_count": 35,
   "metadata": {},
   "outputs": [],
   "source": [
    "MP.DeleteData()"
   ]
  },
  {
   "cell_type": "code",
   "execution_count": 37,
   "metadata": {},
   "outputs": [],
   "source": []
  },
  {
   "cell_type": "code",
   "execution_count": null,
   "metadata": {},
   "outputs": [],
   "source": []
  }
 ],
 "metadata": {
  "kernelspec": {
   "display_name": "Python 3",
   "language": "python",
   "name": "python3"
  },
  "language_info": {
   "codemirror_mode": {
    "name": "ipython",
    "version": 3
   },
   "file_extension": ".py",
   "mimetype": "text/x-python",
   "name": "python",
   "nbconvert_exporter": "python",
   "pygments_lexer": "ipython3",
   "version": "3.7.5"
  }
 },
 "nbformat": 4,
 "nbformat_minor": 2
}
