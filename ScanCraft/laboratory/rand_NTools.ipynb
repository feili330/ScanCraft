{
 "cells": [
  {
   "cell_type": "code",
   "execution_count": 2,
   "metadata": {},
   "outputs": [
    {
     "name": "stdout",
     "output_type": "stream",
     "text": [
      "The autoreload extension is already loaded. To reload it, use:\n",
      "  %reload_ext autoreload\n"
     ]
    }
   ],
   "source": [
    "%matplotlib inline\n",
    "%load_ext autoreload\n",
    "%autoreload 2\n",
    "\n",
    "import sys,os\n",
    "sys.path.append('/home/heyangle/Desktop/ScanCraft/ScanCraft')\n",
    "sys.path.append('/home/vooum/Desktop/ScanCraft/ScanCraft')\n",
    "sys.path.append('C://Users//vooum//Desktop//ScanCraft//ScanCraft')"
   ]
  },
  {
   "cell_type": "code",
   "execution_count": 35,
   "metadata": {},
   "outputs": [],
   "source": [
    "from command.scan.scan import scan\n",
    "from command.nexus.NMSSMTools import NMSSMTools"
   ]
  },
  {
   "cell_type": "code",
   "execution_count": 11,
   "metadata": {},
   "outputs": [],
   "source": [
    "mold=scan(method=\"random\")\n",
    "mold.AddScalar('tanB','MINPAR',3,1.,60.)\n",
    "mold.AddScalar('M1','EXTPAR',1  ,20.    ,1000.)\n",
    "mold.AddScalar('M2','EXTPAR'   ,2  ,100.    ,2000.)\n",
    "mold.AddScalar('Atop','EXTPAR'   ,11  ,  -6e3    ,6e3)\n",
    "mold.AddFollower('Abottom','EXTPAR'   ,12,'Atop')\n",
    "mold.AddScalar('Atau','EXTPAR'   ,13  ,  100.      ,2000.)\n",
    "mold.AddFollower('MtauL','EXTPAR'   ,33,'Atau')\n",
    "mold.AddFollower('MtauR','EXTPAR'   ,36,'Atau')\n",
    "mold.AddScalar('MQ3L','EXTPAR'   ,43,\t100.,\t2.e3)\n",
    "mold.AddScalar('MtopR'\t,'EXTPAR'   ,46,\t100.,\t2.e3)\n",
    "mold.AddFollower('MbottomR','EXTPAR'  ,49,'MtopR')\n",
    "mold.AddScalar('Lambda','EXTPAR'  ,61  ,1e-3    ,1. ,prior_distribution='exponential')\n",
    "mold.AddScalar('Kappa','EXTPAR'   ,62 ,1.e-3    ,1. ,prior_distribution='exponential')\n",
    "mold.AddScalar('A_Lambda','EXTPAR' ,63,-3.e3,3.e3)\n",
    "mold.AddScalar('A_kappa','EXTPAR' ,64,-3.e3,3.e3)\n",
    "mold.AddScalar('mu_eff','EXTPAR'  ,65,100.,1500.)"
   ]
  },
  {
   "cell_type": "code",
   "execution_count": 12,
   "metadata": {},
   "outputs": [
    {
     "data": {
      "text/plain": [
       "'random'"
      ]
     },
     "execution_count": 12,
     "metadata": {},
     "output_type": "execute_result"
    }
   ],
   "source": [
    "mold.method"
   ]
  },
  {
   "cell_type": "code",
   "execution_count": 27,
   "metadata": {},
   "outputs": [
    {
     "data": {
      "text/plain": [
       "['Abottom',\n",
       " 'MtauL',\n",
       " 'MtauR',\n",
       " 'MbottomR',\n",
       " 'tanB',\n",
       " 'M1',\n",
       " 'M2',\n",
       " 'Atop',\n",
       " 'Atau',\n",
       " 'MQ3L',\n",
       " 'MtopR',\n",
       " 'Lambda',\n",
       " 'Kappa',\n",
       " 'A_Lambda',\n",
       " 'A_kappa',\n",
       " 'mu_eff']"
      ]
     },
     "execution_count": 27,
     "metadata": {},
     "output_type": "execute_result"
    }
   ],
   "source": [
    "[k for k in mold.variable_dict.keys()]"
   ]
  },
  {
   "cell_type": "code",
   "execution_count": 28,
   "metadata": {},
   "outputs": [
    {
     "data": {
      "text/plain": [
       "16"
      ]
     },
     "execution_count": 28,
     "metadata": {},
     "output_type": "execute_result"
    }
   ],
   "source": [
    "len(_27)"
   ]
  },
  {
   "cell_type": "code",
   "execution_count": 32,
   "metadata": {},
   "outputs": [
    {
     "data": {
      "text/plain": [
       "['tanB',\n",
       " 'M1',\n",
       " 'M2',\n",
       " 'Atop',\n",
       " 'Atau',\n",
       " 'MQ3L',\n",
       " 'MtopR',\n",
       " 'Lambda',\n",
       " 'Kappa',\n",
       " 'A_Lambda',\n",
       " 'A_kappa',\n",
       " 'mu_eff']"
      ]
     },
     "execution_count": 32,
     "metadata": {},
     "output_type": "execute_result"
    }
   ],
   "source": [
    "[k for k in mold.free_parameter_list.keys()]"
   ]
  },
  {
   "cell_type": "code",
   "execution_count": 29,
   "metadata": {},
   "outputs": [
    {
     "name": "stdout",
     "output_type": "stream",
     "text": [
      "  A_Lambda: None\n",
      "   A_kappa: None\n",
      "   Abottom: None\n",
      "      Atau: None\n",
      "      Atop: None\n",
      "     Kappa: None\n",
      "    Lambda: None\n",
      "        M1: None\n",
      "        M2: None\n",
      "      MQ3L: None\n",
      "  MbottomR: None\n",
      "     MtauL: None\n",
      "     MtauR: None\n",
      "     MtopR: None\n",
      "    mu_eff: None\n",
      "      tanB: None\n"
     ]
    }
   ],
   "source": [
    "mold.Print()"
   ]
  },
  {
   "cell_type": "code",
   "execution_count": 30,
   "metadata": {},
   "outputs": [
    {
     "data": {
      "text/plain": [
       "<command.scan.scan.scan at 0x7f279fbc3a60>"
      ]
     },
     "execution_count": 30,
     "metadata": {},
     "output_type": "execute_result"
    }
   ],
   "source": [
    "mold.Sample()"
   ]
  },
  {
   "cell_type": "code",
   "execution_count": 31,
   "metadata": {},
   "outputs": [
    {
     "name": "stdout",
     "output_type": "stream",
     "text": [
      "  A_Lambda: 2668.9235290157376\n",
      "   A_kappa: -1982.0878508393275\n",
      "   Abottom: -428.5226654281687\n",
      "      Atau: 1986.5715571241221\n",
      "      Atop: -428.5226654281687\n",
      "     Kappa: 0.042309983836941685\n",
      "    Lambda: 0.10245023750574449\n",
      "        M1: 481.16732328776703\n",
      "        M2: 604.22908452004\n",
      "      MQ3L: 253.88279527355385\n",
      "  MbottomR: 1541.7296313929626\n",
      "     MtauL: 1986.5715571241221\n",
      "     MtauR: 1986.5715571241221\n",
      "     MtopR: 1541.7296313929626\n",
      "    mu_eff: 1274.872177107384\n",
      "      tanB: 25.142162671249064\n"
     ]
    }
   ],
   "source": [
    "mold.Print()"
   ]
  },
  {
   "cell_type": "code",
   "execution_count": 39,
   "metadata": {},
   "outputs": [
    {
     "name": "stdout",
     "output_type": "stream",
     "text": [
      "NMSSMTools_5.5.2 file:\n",
      "->/home/vooum/Desktop/ScanCraft/ScanCraft/packages/NMSSMTools_5.5.2\n"
     ]
    }
   ],
   "source": [
    "N=NMSSMTools(input_mold=\"/home/vooum/Desktop/ScanCraft/ScanCraft/packages/NMSSMTools_5.5.2/inpZ3.dat\")"
   ]
  },
  {
   "cell_type": "code",
   "execution_count": 41,
   "metadata": {},
   "outputs": [],
   "source": [
    "N.Make()"
   ]
  },
  {
   "cell_type": "code",
   "execution_count": 42,
   "metadata": {},
   "outputs": [
    {
     "data": {
      "text/plain": [
       "<command.nexus.NMSSMTools.NToolsOutput at 0x7f279fbae160>"
      ]
     },
     "execution_count": 42,
     "metadata": {},
     "output_type": "execute_result"
    }
   ],
   "source": [
    "N.Run(mold)"
   ]
  },
  {
   "cell_type": "code",
   "execution_count": 44,
   "metadata": {},
   "outputs": [
    {
     "data": {
      "text/plain": [
       "{'inp': '/home/vooum/Desktop/ScanCraft/ScanCraft/packages/NMSSMTools_5.5.2/inp',\n",
       " 'spectr': '/home/vooum/Desktop/ScanCraft/ScanCraft/packages/NMSSMTools_5.5.2/spectr',\n",
       " 'omega': '/home/vooum/Desktop/ScanCraft/ScanCraft/packages/NMSSMTools_5.5.2/omega'}"
      ]
     },
     "execution_count": 44,
     "metadata": {},
     "output_type": "execute_result"
    }
   ],
   "source": [
    "N.data_dir"
   ]
  },
  {
   "cell_type": "code",
   "execution_count": 49,
   "metadata": {},
   "outputs": [
    {
     "data": {
      "text/plain": [
       "481.167323"
      ]
     },
     "execution_count": 49,
     "metadata": {},
     "output_type": "execute_result"
    }
   ],
   "source": [
    "_42('EXTPAR',1)"
   ]
  },
  {
   "cell_type": "code",
   "execution_count": 50,
   "metadata": {},
   "outputs": [
    {
     "data": {
      "text/plain": [
       "True"
      ]
     },
     "execution_count": 50,
     "metadata": {},
     "output_type": "execute_result"
    }
   ],
   "source": [
    "_42.error"
   ]
  },
  {
   "cell_type": "code",
   "execution_count": null,
   "metadata": {},
   "outputs": [],
   "source": []
  }
 ],
 "metadata": {
  "kernelspec": {
   "display_name": "Python 3",
   "language": "python",
   "name": "python3"
  },
  "language_info": {
   "codemirror_mode": {
    "name": "ipython",
    "version": 3
   },
   "file_extension": ".py",
   "mimetype": "text/x-python",
   "name": "python",
   "nbconvert_exporter": "python",
   "pygments_lexer": "ipython3",
   "version": "3.8.5"
  }
 },
 "nbformat": 4,
 "nbformat_minor": 4
}
