{
 "cells": [
  {
   "cell_type": "code",
   "execution_count": 1,
   "metadata": {},
   "outputs": [],
   "source": [
    "%matplotlib inline\n",
    "%load_ext autoreload\n",
    "%autoreload 2\n",
    "\n",
    "import sys,os,numpy,pandas\n",
    "import matplotlib.pyplot as plt\n",
    "sys.path.append('/home/heyangle/Desktop/ScanCraft/ScanCraft')\n",
    "\n",
    "from command.file_operations.GetDirectories import GetDirectories\n",
    "from command.file_operations.GetSamples import GetSamples\n",
    "from command.operators.iterable import FlatToList"
   ]
  },
  {
   "cell_type": "code",
   "execution_count": 2,
   "metadata": {},
   "outputs": [],
   "source": [
    "from multiprocessing import Pool\n",
    "from command.NMSSMTools import ReadNMSSMToolsSpectr as Read\n",
    "\n",
    "def read_spectr(sample):\n",
    "    setattr(sample,'spectr',Read(sample.documents['spectr'],\n",
    "                                ignore=[ 'Landau Pole'#27\n",
    "                                ,'Excluded by LUX'\n",
    "                                ,'Relic density'\n",
    "                                ,'Muon magn'#37\n",
    "                                ,'b -> c tau nu'#58 always keep alive\n",
    "                                ])\n",
    "           )\n",
    "    return sample"
   ]
  },
  {
   "cell_type": "code",
   "execution_count": 3,
   "metadata": {},
   "outputs": [
    {
     "data": {
      "text/plain": [
       "3501"
      ]
     },
     "execution_count": 3,
     "metadata": {},
     "output_type": "execute_result"
    }
   ],
   "source": [
    "h1=GetSamples(path='./mcmc_h1/record/',patterns=['inp','spectr','omega'])\n",
    "len(h1)"
   ]
  },
  {
   "cell_type": "code",
   "execution_count": 4,
   "metadata": {},
   "outputs": [
    {
     "data": {
      "text/plain": [
       "3501"
      ]
     },
     "execution_count": 4,
     "metadata": {},
     "output_type": "execute_result"
    }
   ],
   "source": [
    "h2=GetSamples(path='./mcmc_h2/record/',patterns=['inp','spectr','omega'])\n",
    "len(h2)"
   ]
  },
  {
   "cell_type": "code",
   "execution_count": 5,
   "metadata": {},
   "outputs": [],
   "source": [
    "with Pool(6) as P:\n",
    "    h1=P.map(read_spectr, h1)\n",
    "with Pool(6) as P:\n",
    "    h2=P.map(read_spectr, h2)"
   ]
  },
  {
   "cell_type": "code",
   "execution_count": 6,
   "metadata": {},
   "outputs": [
    {
     "data": {
      "text/plain": [
       "['/home/heyangle/Desktop/rerun_old_works/Fine_tuning/mcmc_h1/record/inp',\n",
       " 'dat',\n",
       " '1']"
      ]
     },
     "execution_count": 6,
     "metadata": {},
     "output_type": "execute_result"
    }
   ],
   "source": [
    "h1[0].documents['inp'].rsplit('.')"
   ]
  },
  {
   "cell_type": "code",
   "execution_count": 7,
   "metadata": {},
   "outputs": [
    {
     "data": {
      "text/plain": [
       "{0: 832.4290306933239}"
      ]
     },
     "execution_count": 7,
     "metadata": {},
     "output_type": "execute_result"
    }
   ],
   "source": [
    "h1[2].spectr.DELTAMH"
   ]
  },
  {
   "cell_type": "code",
   "execution_count": 16,
   "metadata": {},
   "outputs": [],
   "source": [
    "n_DhDz_h1=numpy.array([\n",
    "    [int(x.documents['inp'].rsplit('.')[-1]),x.spectr.DELTAMH[0],x.spectr.FINETUNING[15]]\n",
    "    for x in h1\n",
    "])\n",
    "n_DhDz_h2=numpy.array([\n",
    "    [int(x.documents['inp'].rsplit('.')[-1]),x.spectr.DELTAMH[0],x.spectr.FINETUNING[15]]\n",
    "    for x in h2\n",
    "])"
   ]
  },
  {
   "cell_type": "code",
   "execution_count": 9,
   "metadata": {},
   "outputs": [
    {
     "data": {
      "text/plain": [
       "array([[1.00000000e+00, 9.05163102e+02, 1.47986785e+01],\n",
       "       [2.00000000e+00, 4.12631368e+02, 3.05345476e+00],\n",
       "       [3.00000000e+00, 8.32429031e+02, 2.70648978e+01],\n",
       "       ...,\n",
       "       [3.73700000e+03, 2.02751634e+01, 2.32075352e+01],\n",
       "       [3.73800000e+03, 4.40832479e+01, 3.19053818e+01],\n",
       "       [3.73900000e+03, 2.55863877e+01, 1.81564214e+01]])"
      ]
     },
     "execution_count": 9,
     "metadata": {},
     "output_type": "execute_result"
    }
   ],
   "source": [
    "n_DhDz_h1"
   ]
  },
  {
   "cell_type": "code",
   "execution_count": 17,
   "metadata": {
    "scrolled": true
   },
   "outputs": [
    {
     "data": {
      "text/plain": [
       "array([[1.00000000e+00, 1.02806741e+01, 1.47986785e+01],\n",
       "       [2.00000000e+00, 3.28187424e+00, 3.05345476e+00],\n",
       "       [3.00000000e+00, 2.10348378e+01, 2.70648978e+01],\n",
       "       ...,\n",
       "       [3.73700000e+03, 1.07156770e+01, 2.32075352e+01],\n",
       "       [3.73800000e+03, 7.00463477e+00, 3.19053818e+01],\n",
       "       [3.73900000e+03, 3.00983043e+00, 1.81564214e+01]])"
      ]
     },
     "execution_count": 17,
     "metadata": {},
     "output_type": "execute_result"
    }
   ],
   "source": [
    "n_DhDz_h2"
   ]
  },
  {
   "cell_type": "code",
   "execution_count": 14,
   "metadata": {},
   "outputs": [],
   "source": [
    "numpy.savetxt('Dh_Dz_h1.txt',n_DhDz_h1,fmt=('%8i','%20.10e','%20.10e'))"
   ]
  },
  {
   "cell_type": "code",
   "execution_count": 18,
   "metadata": {},
   "outputs": [],
   "source": [
    "numpy.savetxt('Dh_Dz_h2.txt',n_DhDz_h2,fmt=('%8i','%20.10e','%20.10e'))"
   ]
  },
  {
   "cell_type": "code",
   "execution_count": 14,
   "metadata": {},
   "outputs": [
    {
     "data": {
      "text/plain": [
       "<matplotlib.collections.PathCollection at 0x7fb899c68710>"
      ]
     },
     "execution_count": 14,
     "metadata": {},
     "output_type": "execute_result"
    },
    {
     "data": {
      "image/png": "[encoded data removed]",
      "text/plain": [
       "<Figure size 432x288 with 1 Axes>"
      ]
     },
     "metadata": {},
     "output_type": "display_data"
    }
   ],
   "source": [
    "plt.scatter(DhDz_h1[:,0],DhDz_h1[:,1])"
   ]
  },
  {
   "cell_type": "code",
   "execution_count": 15,
   "metadata": {},
   "outputs": [
    {
     "data": {
      "text/plain": [
       "<matplotlib.collections.PathCollection at 0x7fb8983f4eb8>"
      ]
     },
     "execution_count": 15,
     "metadata": {},
     "output_type": "execute_result"
    },
    {
     "data": {
      "image/png": "[encoded data removed]",
      "text/plain": [
       "<Figure size 432x288 with 1 Axes>"
      ]
     },
     "metadata": {},
     "output_type": "display_data"
    }
   ],
   "source": [
    "plt.scatter(DhDz_h2[:,0],DhDz_h2[:,1])"
   ]
  },
  {
   "cell_type": "code",
   "execution_count": null,
   "metadata": {},
   "outputs": [],
   "source": []
  }
 ],
 "metadata": {
  "kernelspec": {
   "display_name": "Python 3",
   "language": "python",
   "name": "python3"
  },
  "language_info": {
   "codemirror_mode": {
    "name": "ipython",
    "version": 3
   },
   "file_extension": ".py",
   "mimetype": "text/x-python",
   "name": "python",
   "nbconvert_exporter": "python",
   "pygments_lexer": "ipython3",
   "version": "3.6.8"
  }
 },
 "nbformat": 4,
 "nbformat_minor": 2
}
