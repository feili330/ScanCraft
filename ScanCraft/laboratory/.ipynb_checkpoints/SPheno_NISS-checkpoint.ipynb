{
 "cells": [
  {
   "cell_type": "code",
   "execution_count": 1,
   "metadata": {},
   "outputs": [],
   "source": [
    "%matplotlib inline\n",
    "%load_ext autoreload\n",
    "%autoreload 2\n",
    "\n",
    "import sys,pandas,os\n",
    "sys.path.append('/home/heyangle/Desktop/ScanCraft/ScanCraft')"
   ]
  },
  {
   "cell_type": "code",
   "execution_count": 2,
   "metadata": {},
   "outputs": [],
   "source": [
    "import sys,numpy,pandas,os,queue\n",
    "from copy import deepcopy\n",
    "sys.path.append('/home/heyangle/Desktop/ScanCraft/ScanCraft')\n",
    "from command.nexus.SPheno import SPheno,block_mapping,ReadSLHAFile\n",
    "from command.scan.scan import scan\n",
    "from command.multi_thread.MT_SPheno import MT_SPheno\n",
    "from command.multi_thread.queue_operation import GenerateQueue # generate random queue\n",
    "from command.pytorch.normalize import normalize\n",
    "from command.operators.iterable import FlatToList\n",
    "from command.data_transformer.ArrayToInputQueue import ArrayToInputQueue\n",
    "from command.data_transformer.InputToPandas import InputToPandas\n",
    "from command.data_transformer.defult_parameter_order import defult_name_order\n",
    "from command.file_operations.GetSamples import GetSamples\n",
    "\n",
    "from command.scan.GA import ga"
   ]
  },
  {
   "cell_type": "code",
   "execution_count": 3,
   "metadata": {},
   "outputs": [],
   "source": [
    "# a mold of input point object\n",
    "mold=scan(method='random')\n",
    "# MinPar -------\n",
    "mold.AddScalar('tanB','MINPAR',3,1.,60.)\n",
    "# Extpar -------\n",
    "mold.AddScalar('Lambda','EXTPAR', 61, 1e-3, 0.7, prior_distribution='exponential')\n",
    "mold.AddScalar('Kappa', 'EXTPAR', 62, 1e-3, 0.7, prior_distribution='exponential')\n",
    "# mold.AddScalar('A_Lambda','EXTPAR' ,63,-3.e3,3.e3)\n",
    "mold.AddScalar('A_kappa','EXTPAR',64, -5.e2, 5.e2)\n",
    "mold.AddScalar('mu_eff', 'EXTPAR',65,100., 300.)\n",
    "# MSoft --------\n",
    "# mold.AddScalar('M1','MSOFT',1,50,2000)\n",
    "# mold.AddScalar('M2','MSOFT',2,100,2000)\n",
    "# Squark -------\n",
    "# mold.AddElement( 'Mq3^2','MSQ2',(3,3), 1e4,4e6)\n",
    "# mold.AddElement( 'Mu3^2','MSU2',(3,3), 1e4,4e6)\n",
    "# mold.AddFollower('Md3^2','MSD2',(3,3), 'Mu32')\n",
    "mold.AddElement( 'Tt',   'TU',  (3,3), -2000,2000)\n",
    "mold.AddElement( 'Tb',   'TD',  (3,3), -2000,2000)\n",
    "# Slepton ------\n",
    "mold.AddElement( 'Ml3^2','MSL2',(3,3), 1e4,25e4)\n",
    "mold.AddElement( 'Ml2^2','MSL2',(2,2), 1e4,25e4)\n",
    "# mold.AddFollower('Ml1^2','MSL2',(1,1),'Ml32')\n",
    "# mold.AddFollower('Me3^2','MSE2',(3,3),'Ml32')\n",
    "# mold.AddFollower('Me2^2','MSE2',(2,2),'Ml32')\n",
    "# mold.AddFollower('Me1^2','MSE2',(1,1),'Ml32')\n",
    "mold.AddElement( 'Ttau', 'TE',  (3,3),-2000,2000)\n",
    "# Sneutrino ----\n",
    "mold.AddElement( 'Mv3^2', 'MV2', (3,3), 1e4, 9e4)\n",
    "mold.AddElement( 'Mv2^2', 'MV2', (2,2), 1e4,25e4)\n",
    "mold.AddElement( 'Mx3^2', 'MX2', (3,3), 1e4, 9e4)\n",
    "mold.AddElement( 'Mx2^2', 'MX2', (2,2), 1e4,25e4)\n",
    "mold.AddElement( 'Yv3',   'YV',  (3,3), 0, 0.5)\n",
    "mold.AddElement( 'Tv3',   'TV',  (3,3), -500,500)\n",
    "mold.AddElement( 'Yv2',   'YV',  (2,2), 0,0.5)\n",
    "mold.AddElement( 'Tv2',   'TV',  (2,2), -500,500)\n",
    "mold.AddElement( 'Lambda_v3',  'LAMN', (3,3), 0,  0.5)\n",
    "mold.AddElement( 'Lambda_v2',  'LAMN', (2,2), 0,  0.5)\n",
    "mold.AddElement( 'T_Lambda_v3','TLAMN',(3,3), -500,500)\n",
    "mold.AddElement( 'T_Lambda_v2','TLAMN',(2,2), -500,500)\n",
    "# muX\n",
    "for i in range(1,4):\n",
    "    for j in range(1,4):\n",
    "        mold.AddDependent(f'muX_{i}{j}','MUX',tuple((i,j)))\n",
    "# function to get each muX elements\n",
    "from command.ISS_mu_x import GetMuX as muX\n",
    "def GetMuX(sample):\n",
    "    #input: Yv_11, Yv_22, Yv_33, LAMN_11, LAMN_22, LAMN_33, tanbeta, vs\n",
    "    M=muX(0.01,# Yv_11\n",
    "        sample.variable_list['Yv2'](),\n",
    "        sample.variable_list['Yv3'](),\n",
    "        0.3,# LAMN_11\n",
    "        sample.variable_list['Lambda_v2'](),\n",
    "        sample.variable_list['Lambda_v3'](),\n",
    "        sample.variable_list['Lambda_v2'](),\n",
    "        sample.variable_list['tanB'](),\n",
    "        sample.variable_list['tanB']()/sample.variable_list['Lambda']()\n",
    "    )\n",
    "    for i in range(1,4):\n",
    "        for j in range(1,4):\n",
    "            sample.variable_list[f'muX_{i}{j}'].value=M[i-1,j-1]\n",
    "\n",
    "order=defult_name_order(mold.free_parameter_list) # parameter name list\n",
    "dimention=len(order)\n",
    "\n",
    "Norm=normalize(mold,order=order)"
   ]
  },
  {
   "cell_type": "code",
   "execution_count": 4,
   "metadata": {},
   "outputs": [
    {
     "data": {
      "text/plain": [
       "['A_kappa',\n",
       " 'Kappa',\n",
       " 'Lambda',\n",
       " 'Lambda_v2',\n",
       " 'Lambda_v3',\n",
       " 'Ml2^2',\n",
       " 'Ml3^2',\n",
       " 'Mv2^2',\n",
       " 'Mv3^2',\n",
       " 'Mx2^2',\n",
       " 'Mx3^2',\n",
       " 'T_Lambda_v2',\n",
       " 'T_Lambda_v3',\n",
       " 'Tb',\n",
       " 'Tt',\n",
       " 'Ttau',\n",
       " 'Tv2',\n",
       " 'Tv3',\n",
       " 'Yv2',\n",
       " 'Yv3',\n",
       " 'muX_11',\n",
       " 'muX_12',\n",
       " 'muX_13',\n",
       " 'muX_21',\n",
       " 'muX_22',\n",
       " 'muX_23',\n",
       " 'muX_31',\n",
       " 'muX_32',\n",
       " 'muX_33',\n",
       " 'mu_eff',\n",
       " 'tanB']"
      ]
     },
     "execution_count": 4,
     "metadata": {},
     "output_type": "execute_result"
    }
   ],
   "source": [
    "sorted(list(mold.variable_list.keys()))"
   ]
  },
  {
   "cell_type": "code",
   "execution_count": 5,
   "metadata": {},
   "outputs": [
    {
     "data": {
      "text/plain": [
       "'MU'"
      ]
     },
     "execution_count": 5,
     "metadata": {},
     "output_type": "execute_result"
    }
   ],
   "source": [
    "mold.variable_list['muX_33'].block"
   ]
  },
  {
   "cell_type": "code",
   "execution_count": 6,
   "metadata": {},
   "outputs": [
    {
     "data": {
      "text/plain": [
       "<command.scan.scan.scan at 0x7f944dd98ac8>"
      ]
     },
     "execution_count": 6,
     "metadata": {},
     "output_type": "execute_result"
    }
   ],
   "source": [
    "mold.Sample()"
   ]
  },
  {
   "cell_type": "code",
   "execution_count": 7,
   "metadata": {},
   "outputs": [],
   "source": [
    "GetMuX(mold)"
   ]
  },
  {
   "cell_type": "code",
   "execution_count": 8,
   "metadata": {},
   "outputs": [
    {
     "name": "stdout",
     "output_type": "stream",
     "text": [
      "   A_kappa: -63.35371389879407\n",
      "     Kappa: 0.027515033643163732\n",
      "    Lambda: 0.002737770891164748\n",
      " Lambda_v2: 0.4029927230868718\n",
      " Lambda_v3: 0.43686146928683983\n",
      "     Ml2^2: 29223.046280506715\n",
      "     Ml3^2: 114178.71678854838\n",
      "     Mv2^2: 98520.55211587947\n",
      "     Mv3^2: 30035.712133564568\n",
      "     Mx2^2: 35760.35353006111\n",
      "     Mx3^2: 35202.092314816604\n",
      "T_Lambda_v2: -203.038595698549\n",
      "T_Lambda_v3: 197.98982643478143\n",
      "        Tb: -1725.0010929875689\n",
      "        Tt: -535.0589027257424\n",
      "      Ttau: -760.4437236169379\n",
      "       Tv2: -303.90766683902257\n",
      "       Tv3: -31.364845338188047\n",
      "       Yv2: 0.004849289218280817\n",
      "       Yv3: 0.33009414726554803\n",
      "    muX_11: 1.1659613450133454e-08\n",
      "    muX_12: -3.785235771064267e-10\n",
      "    muX_13: -7.113693207769407e-12\n",
      "    muX_21: -3.785235771064263e-10\n",
      "    muX_22: 9.3458800283297e-08\n",
      "    muX_23: 1.0162000238261559e-10\n",
      "    muX_31: -7.113693207769414e-12\n",
      "    muX_32: 1.0162000238261546e-10\n",
      "    muX_33: 2.9801291100660086e-11\n",
      "    mu_eff: 123.10960487692215\n",
      "      tanB: 33.03799180265176\n"
     ]
    }
   ],
   "source": [
    "mold.Print()"
   ]
  },
  {
   "cell_type": "code",
   "execution_count": 14,
   "metadata": {},
   "outputs": [
    {
     "data": {
      "text/plain": [
       "{(1, 1): <command.scan.free_parameter.dependent_scalar at 0x7f944db24a58>,\n",
       " (1, 2): <command.scan.free_parameter.dependent_scalar at 0x7f944db24a90>,\n",
       " (1, 3): <command.scan.free_parameter.dependent_scalar at 0x7f944db24b38>,\n",
       " (2, 1): <command.scan.free_parameter.dependent_scalar at 0x7f944db24ba8>,\n",
       " (2, 2): <command.scan.free_parameter.dependent_scalar at 0x7f944db24c18>,\n",
       " (2, 3): <command.scan.free_parameter.dependent_scalar at 0x7f944db24c88>,\n",
       " (3, 1): <command.scan.free_parameter.dependent_scalar at 0x7f944db24cf8>,\n",
       " (3, 2): <command.scan.free_parameter.dependent_scalar at 0x7f944db24d68>,\n",
       " (3, 3): <command.scan.free_parameter.dependent_scalar at 0x7f944db24dd8>}"
      ]
     },
     "execution_count": 14,
     "metadata": {},
     "output_type": "execute_result"
    }
   ],
   "source": [
    "mold.block_list['MU']"
   ]
  },
  {
   "cell_type": "code",
   "execution_count": 9,
   "metadata": {},
   "outputs": [
    {
     "name": "stdout",
     "output_type": "stream",
     "text": [
      "SPheno file:\n",
      "->/home/heyangle/Desktop/ScanCraft/ScanCraft/packages/SPheno-4.0.3\n",
      "delete folder record? (y/n) \n",
      "\n"
     ]
    }
   ],
   "source": [
    "SP=SPheno(input_mold='LesHouches.in.NInvSeesaw_low'\n",
    "            ,input_file='LesHouches.in.NInvSeesaw_low'\n",
    "            ,output_file='SPheno.spc.NInvSeesaw'\n",
    "            ,main_routine='SPhenoNInvSeesaw')"
   ]
  },
  {
   "cell_type": "code",
   "execution_count": 10,
   "metadata": {},
   "outputs": [],
   "source": [
    "p1=SP.Run(mold)"
   ]
  },
  {
   "cell_type": "code",
   "execution_count": null,
   "metadata": {},
   "outputs": [],
   "source": [
    "p1."
   ]
  }
 ],
 "metadata": {
  "kernelspec": {
   "display_name": "Python 3",
   "language": "python",
   "name": "python3"
  },
  "language_info": {
   "codemirror_mode": {
    "name": "ipython",
    "version": 3
   },
   "file_extension": ".py",
   "mimetype": "text/x-python",
   "name": "python",
   "nbconvert_exporter": "python",
   "pygments_lexer": "ipython3",
   "version": "3.6.5"
  }
 },
 "nbformat": 4,
 "nbformat_minor": 2
}
