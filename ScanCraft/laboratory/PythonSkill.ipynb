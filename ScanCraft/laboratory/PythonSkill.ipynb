{
 "cells": [
  {
   "cell_type": "markdown",
   "metadata": {},
   "source": [
    "# Import"
   ]
  },
  {
   "cell_type": "code",
   "execution_count": 1,
   "metadata": {},
   "outputs": [
    {
     "name": "stdout",
     "output_type": "stream",
     "text": [
      "module_not_exist not exist\n"
     ]
    }
   ],
   "source": [
    "try:\n",
    "    import module_not_exist as math\n",
    "except ImportError:\n",
    "    print('module_not_exist not exist')\n",
    "    import math as math"
   ]
  },
  {
   "cell_type": "markdown",
   "metadata": {},
   "source": [
    "# I/O"
   ]
  },
  {
   "cell_type": "code",
   "execution_count": 3,
   "metadata": {},
   "outputs": [
    {
     "data": {
      "text/plain": [
       "'\\x1b[38;5;1m'"
      ]
     },
     "execution_count": 3,
     "metadata": {},
     "output_type": "execute_result"
    }
   ],
   "source": [
    "# see https://pypi.org/project/colored/\n",
    "import colored\n",
    "colored.fg('red')"
   ]
  },
  {
   "cell_type": "code",
   "execution_count": 5,
   "metadata": {},
   "outputs": [
    {
     "name": "stdout",
     "output_type": "stream",
     "text": [
      "\u001b[38;5;1mHello\u001b[0m\n"
     ]
    }
   ],
   "source": [
    "print('%sHello%s'%(colored.fg('red'),colored.attr(0)))"
   ]
  },
  {
   "cell_type": "code",
   "execution_count": 7,
   "metadata": {},
   "outputs": [],
   "source": [
    "red=colored.fg('red')"
   ]
  },
  {
   "cell_type": "code",
   "execution_count": 10,
   "metadata": {},
   "outputs": [
    {
     "name": "stdout",
     "output_type": "stream",
     "text": [
      "\u001b[38;5;1mred\n"
     ]
    }
   ],
   "source": [
    "print(f'{colored.fg(\"red\")}red')"
   ]
  },
  {
   "cell_type": "markdown",
   "metadata": {},
   "source": [
    "#  Class methods"
   ]
  },
  {
   "cell_type": "markdown",
   "metadata": {},
   "source": [
    "## __getattr__"
   ]
  },
  {
   "cell_type": "code",
   "execution_count": 1,
   "metadata": {},
   "outputs": [],
   "source": [
    "class t():\n",
    "    L={'a':1,'b':2,'c':3}\n",
    "    def __getattr__(self,i):\n",
    "        return self.L[i]"
   ]
  },
  {
   "cell_type": "code",
   "execution_count": 2,
   "metadata": {},
   "outputs": [],
   "source": [
    "aa=t()"
   ]
  },
  {
   "cell_type": "code",
   "execution_count": 4,
   "metadata": {},
   "outputs": [
    {
     "data": {
      "text/plain": [
       "2"
      ]
     },
     "execution_count": 4,
     "metadata": {},
     "output_type": "execute_result"
    }
   ],
   "source": [
    "aa.b"
   ]
  },
  {
   "cell_type": "code",
   "execution_count": 5,
   "metadata": {},
   "outputs": [
    {
     "data": {
      "text/plain": [
       "{'a': 1, 'b': 2, 'c': 3}"
      ]
     },
     "execution_count": 5,
     "metadata": {},
     "output_type": "execute_result"
    }
   ],
   "source": [
    "aa.L"
   ]
  },
  {
   "cell_type": "markdown",
   "metadata": {},
   "source": [
    "## methods to modify pickling behavior\n",
    "see \"Handling Stateful Objects\" at\n",
    "\n",
    "https://docs.python.org/3.8/library/pickle.html #pickle-state"
   ]
  },
  {
   "cell_type": "code",
   "execution_count": null,
   "metadata": {},
   "outputs": [],
   "source": [
    "class unPicklable():\n",
    "    def __getstate__(self):\n",
    "        self.block_text\n",
    "        state=self.__dict__.copy()\n",
    "        for key in ['BLOCK','DECAY']:\n",
    "            try:\n",
    "                del state[key]\n",
    "            except KeyError:\n",
    "                pass\n",
    "        return state\n",
    "    def __setstate__(self,state):\n",
    "        self.__dict__.update(state)"
   ]
  },
  {
   "cell_type": "markdown",
   "metadata": {},
   "source": [
    "## Lazy property"
   ]
  },
  {
   "cell_type": "code",
   "execution_count": 2,
   "metadata": {},
   "outputs": [],
   "source": [
    "class lazyproperty:\n",
    "    def __init__(self,func):\n",
    "        self.func=func\n",
    "    def __get__(self,instance,cls):\n",
    "        if instance is None:\n",
    "            return self\n",
    "        else:\n",
    "            value=self.func(instance)\n",
    "            setattr(instance,self.func.__name__,value)\n",
    "            return value"
   ]
  },
  {
   "cell_type": "code",
   "execution_count": 7,
   "metadata": {},
   "outputs": [],
   "source": [
    "class square:\n",
    "    def __init__(self,r):\n",
    "        self.r=r\n",
    "    @lazyproperty\n",
    "    def a(self):\n",
    "        print('computing a')\n",
    "        return self.r**2"
   ]
  },
  {
   "cell_type": "code",
   "execution_count": 20,
   "metadata": {},
   "outputs": [],
   "source": [
    "a=square(4)"
   ]
  },
  {
   "cell_type": "code",
   "execution_count": 21,
   "metadata": {},
   "outputs": [
    {
     "data": {
      "text/plain": [
       "{'r': 4}"
      ]
     },
     "execution_count": 21,
     "metadata": {},
     "output_type": "execute_result"
    }
   ],
   "source": [
    "a.__dict__"
   ]
  },
  {
   "cell_type": "code",
   "execution_count": 14,
   "metadata": {},
   "outputs": [
    {
     "data": {
      "text/plain": [
       "<__main__.lazyprogerty at 0x7f5aed030940>"
      ]
     },
     "execution_count": 14,
     "metadata": {},
     "output_type": "execute_result"
    }
   ],
   "source": [
    "squire.a"
   ]
  },
  {
   "cell_type": "code",
   "execution_count": 22,
   "metadata": {},
   "outputs": [
    {
     "name": "stdout",
     "output_type": "stream",
     "text": [
      "computing a\n"
     ]
    },
    {
     "data": {
      "text/plain": [
       "16"
      ]
     },
     "execution_count": 22,
     "metadata": {},
     "output_type": "execute_result"
    }
   ],
   "source": [
    "a.a"
   ]
  },
  {
   "cell_type": "code",
   "execution_count": 25,
   "metadata": {},
   "outputs": [
    {
     "name": "stdout",
     "output_type": "stream",
     "text": [
      "computing a\n"
     ]
    },
    {
     "data": {
      "text/plain": [
       "int"
      ]
     },
     "execution_count": 25,
     "metadata": {},
     "output_type": "execute_result"
    }
   ],
   "source": [
    "type(a.a)"
   ]
  },
  {
   "cell_type": "code",
   "execution_count": 27,
   "metadata": {},
   "outputs": [],
   "source": [
    "a=b=1"
   ]
  },
  {
   "cell_type": "code",
   "execution_count": null,
   "metadata": {},
   "outputs": [],
   "source": []
  },
  {
   "cell_type": "markdown",
   "metadata": {},
   "source": [
    "# Function"
   ]
  },
  {
   "cell_type": "markdown",
   "metadata": {},
   "source": [
    "## input"
   ]
  },
  {
   "cell_type": "code",
   "execution_count": 2,
   "metadata": {},
   "outputs": [],
   "source": [
    "def plus(*arguments,**keywords):\n",
    "    print(sum(arguments))\n",
    "    print(sum(keywords.values()))"
   ]
  },
  {
   "cell_type": "code",
   "execution_count": 3,
   "metadata": {},
   "outputs": [
    {
     "name": "stdout",
     "output_type": "stream",
     "text": [
      "6\n",
      "6\n"
     ]
    }
   ],
   "source": [
    "List1=[1,2,3]\n",
    "dict1={'k1':1,'k2':2,'k3':3}\n",
    "plus(*List1,**dict1)"
   ]
  },
  {
   "cell_type": "code",
   "execution_count": 4,
   "metadata": {},
   "outputs": [
    {
     "name": "stdout",
     "output_type": "stream",
     "text": [
      "7\n",
      "0\n"
     ]
    }
   ],
   "source": [
    "plus(1,*List1)"
   ]
  },
  {
   "cell_type": "code",
   "execution_count": 22,
   "metadata": {},
   "outputs": [],
   "source": [
    "a0=1\n",
    "def f(a=a0):\n",
    "    a0=2*a\n",
    "    print(a0,a)"
   ]
  },
  {
   "cell_type": "code",
   "execution_count": 23,
   "metadata": {},
   "outputs": [
    {
     "name": "stdout",
     "output_type": "stream",
     "text": [
      "8 4\n",
      "2 1\n",
      "2 1\n",
      "4 2\n",
      "2 1\n"
     ]
    }
   ],
   "source": [
    "f(4),f()\n",
    "a0=2\n",
    "f()\n",
    "f(a=a0)\n",
    "f()"
   ]
  },
  {
   "cell_type": "code",
   "execution_count": 12,
   "metadata": {},
   "outputs": [
    {
     "name": "stdout",
     "output_type": "stream",
     "text": [
      "1\n"
     ]
    }
   ],
   "source": [
    "a0=2\n",
    "f()"
   ]
  },
  {
   "cell_type": "markdown",
   "metadata": {},
   "source": [
    "# timeit"
   ]
  },
  {
   "cell_type": "markdown",
   "metadata": {},
   "source": [
    "## if and try"
   ]
  },
  {
   "cell_type": "code",
   "execution_count": 1,
   "metadata": {},
   "outputs": [
    {
     "name": "stdout",
     "output_type": "stream",
     "text": [
      "181 ns ± 2.23 ns per loop (mean ± std. dev. of 7 runs, 10000000 loops each)\n",
      "117 ns ± 2.8 ns per loop (mean ± std. dev. of 7 runs, 10000000 loops each)\n",
      "107 ns ± 0.579 ns per loop (mean ± std. dev. of 7 runs, 10000000 loops each)\n",
      "188 ns ± 0.392 ns per loop (mean ± std. dev. of 7 runs, 10000000 loops each)\n"
     ]
    }
   ],
   "source": [
    "D={'1':1,'2':2}\n",
    "def IF(code):\n",
    "    if f'{code}' in D:\n",
    "        D[f'{code}']\n",
    "    else:\n",
    "        pass\n",
    "def TRY(code):\n",
    "    try:\n",
    "        D[f'{code}']\n",
    "    except:\n",
    "        pass\n",
    "\n",
    "%timeit IF(1)\n",
    "\n",
    "%timeit TRY(1)\n",
    "\n",
    "%timeit IF(3)\n",
    "\n",
    "%timeit TRY(3)"
   ]
  },
  {
   "cell_type": "markdown",
   "metadata": {},
   "source": [
    "## string match"
   ]
  },
  {
   "cell_type": "code",
   "execution_count": 4,
   "metadata": {},
   "outputs": [
    {
     "name": "stdout",
     "output_type": "stream",
     "text": [
      "20.7 ns ± 0.0856 ns per loop (mean ± std. dev. of 7 runs, 10000000 loops each)\n",
      "20.9 ns ± 0.278 ns per loop (mean ± std. dev. of 7 runs, 10000000 loops each)\n",
      "23.8 ns ± 0.153 ns per loop (mean ± std. dev. of 7 runs, 10000000 loops each)\n"
     ]
    }
   ],
   "source": [
    "start='BLOCK'\n",
    "st='  AA '\n",
    "%timeit 'BLOCK' == start\n",
    "%timeit 'BLOCK' == st\n",
    "%timeit 'BLOCK' in start"
   ]
  },
  {
   "cell_type": "markdown",
   "metadata": {},
   "source": [
    "## if None"
   ]
  },
  {
   "cell_type": "code",
   "execution_count": 1,
   "metadata": {},
   "outputs": [
    {
     "name": "stdout",
     "output_type": "stream",
     "text": [
      "12.1 ns ± 0.142 ns per loop (mean ± std. dev. of 7 runs, 100000000 loops each)\n",
      "14.3 ns ± 0.104 ns per loop (mean ± std. dev. of 7 runs, 100000000 loops each)\n"
     ]
    }
   ],
   "source": [
    "a=None\n",
    "%timeit if a: pass\n",
    "%timeit if a is None: pass"
   ]
  },
  {
   "cell_type": "markdown",
   "metadata": {},
   "source": [
    "## Decorators"
   ]
  },
  {
   "cell_type": "code",
   "execution_count": 1,
   "metadata": {},
   "outputs": [],
   "source": [
    "def pre(func):\n",
    "    def _pre(s):\n",
    "        n=func.__code__.co_argcount\n",
    "        pars=s.split()[:n]\n",
    "        if not len(pars)==n:\n",
    "            return None\n",
    "        print(n,'pars: ',pars)\n",
    "        out=func(*pars)\n",
    "        return out\n",
    "    return _pre"
   ]
  },
  {
   "cell_type": "code",
   "execution_count": 2,
   "metadata": {},
   "outputs": [],
   "source": [
    "@pre\n",
    "def read(a,b):\n",
    "    print(a,b)"
   ]
  },
  {
   "cell_type": "code",
   "execution_count": 3,
   "metadata": {},
   "outputs": [
    {
     "name": "stdout",
     "output_type": "stream",
     "text": [
      "2 pars:  ['1', '2']\n",
      "1 2\n"
     ]
    }
   ],
   "source": [
    "read('1 2')"
   ]
  },
  {
   "cell_type": "code",
   "execution_count": 16,
   "metadata": {},
   "outputs": [],
   "source": [
    "import time\n",
    "day = 24*60*60\n",
    "hour = 60*60\n",
    "minute = 60\n",
    "def changeTime(allTime):\n",
    "    # if allTime <60:\n",
    "    #     return  \"%d sec\"%math.ceil(allTime)\n",
    "    if  allTime > day:\n",
    "        days = divmod(allTime,day) \n",
    "        return \"%ddays, %s\"%(int(days[0]),changeTime(days[1]))\n",
    "    elif allTime > hour:\n",
    "        hours = divmod(allTime,hour)\n",
    "        return '%dhour:%s'%(int(hours[0]),changeTime(hours[1]))\n",
    "    elif allTime > minute:\n",
    "        mins = divmod(allTime,minute)\n",
    "        return \"%dmin:%s\"%(int(mins[0]),changeTime(mins[1]))\n",
    "    else: # allTime < 60sec\n",
    "        return \"%.2fsec\"%(allTime)"
   ]
  },
  {
   "cell_type": "code",
   "execution_count": 18,
   "metadata": {},
   "outputs": [
    {
     "data": {
      "text/plain": [
       "'1days, 7hour:25min:11.11sec'"
      ]
     },
     "execution_count": 18,
     "metadata": {},
     "output_type": "execute_result"
    }
   ],
   "source": [
    "changeTime(113111.111)"
   ]
  },
  {
   "cell_type": "code",
   "execution_count": null,
   "metadata": {},
   "outputs": [],
   "source": []
  }
 ],
 "metadata": {
  "kernelspec": {
   "display_name": "Python 3",
   "language": "python",
   "name": "python3"
  },
  "language_info": {
   "codemirror_mode": {
    "name": "ipython",
    "version": 3
   },
   "file_extension": ".py",
   "mimetype": "text/x-python",
   "name": "python",
   "nbconvert_exporter": "python",
   "pygments_lexer": "ipython3",
   "version": "3.7.5"
  }
 },
 "nbformat": 4,
 "nbformat_minor": 2
}
