{
 "cells": [
  {
   "cell_type": "code",
   "execution_count": 1,
   "metadata": {},
   "outputs": [],
   "source": [
    "%matplotlib inline\n",
    "%load_ext autoreload\n",
    "%autoreload 2"
   ]
  },
  {
   "cell_type": "markdown",
   "metadata": {},
   "source": [
    "### add command path"
   ]
  },
  {
   "cell_type": "code",
   "execution_count": 2,
   "metadata": {},
   "outputs": [],
   "source": [
    "import sys,numpy,pandas,os\n",
    "from copy import deepcopy\n",
    "sys.path.append('/home/heyangle/Desktop/ScanCraft/ScanCraft')"
   ]
  },
  {
   "cell_type": "markdown",
   "metadata": {},
   "source": [
    "### import functions"
   ]
  },
  {
   "cell_type": "code",
   "execution_count": 3,
   "metadata": {},
   "outputs": [],
   "source": [
    "from command.nexus.SPheno import SPheno,block_mapping\n",
    "from command.scan.scan import scan\n",
    "from command.multi_thread.MT_SPheno import MT_SPheno\n",
    "from command.multi_thread.queue_operation import GenerateQueue # generate random queue\n",
    "from command.pytorch.normalize import normalize\n",
    "from command.operators.iterable import FlatToList\n",
    "from command.data_transformer.ArrayToInputQueue import ArrayToInputQueue\n",
    "from command.data_transformer.InputToPandas import InputToPandas"
   ]
  },
  {
   "cell_type": "code",
   "execution_count": 4,
   "metadata": {},
   "outputs": [],
   "source": [
    "mold=scan(method='random')\n",
    "# MinPar\n",
    "mold.AddScalar('tanB','MINPAR',3,1.,60.)\n",
    "# Extpar\n",
    "mold.AddScalar('Lambda','EXTPAR'  ,61  ,1e-3    ,1. ,prior_distribution='exponential')\n",
    "mold.AddScalar('Kappa','EXTPAR'   ,62 ,1.e-3    ,1. ,prior_distribution='exponential')\n",
    "mold.AddScalar('A_Lambda','EXTPAR' ,63,-3.e3,3.e3)\n",
    "mold.AddScalar('A_kappa','EXTPAR' ,64,-3.e3,3.e3)\n",
    "mold.AddScalar('mu_eff','EXTPAR'  ,65,100.,1500.)\n",
    "# Squark mass\n",
    "mold.AddElement( 'Mq32','MSQ2',(3,3),1e4,4e6)\n",
    "mold.AddElement( 'Mu32','MSU2',(3,3),1e4,4e6)\n",
    "mold.AddFollower('Md32','MSD2',(3,3),'Mu32')\n",
    "# Slepton mass\n",
    "mold.AddElement( 'Ml32','MSL2',(3,3),1e4,4e6)\n",
    "mold.AddFollower('Ml22','MSL2',(2,2),'Ml32')\n",
    "mold.AddFollower('Ml12','MSL2',(1,1),'Ml32')\n",
    "mold.AddFollower('Me32','MSE2',(3,3),'Ml32')\n",
    "mold.AddFollower('Me22','MSE2',(2,2),'Ml32')\n",
    "mold.AddFollower('Me12','MSE2',(1,1),'Ml32')\n",
    "# Yukawa\n",
    "mold.AddElement( 'Tt' ,'TU'  ,(3,3),-2000,2000)\n",
    "mold.AddElement( 'Tb' ,'TD'  ,(3,3),-2000,2000)\n",
    "mold.AddElement( 'Ttau' ,'TE'  ,(3,3),-2000,2000)\n",
    "# MSoft\n",
    "mold.AddScalar('M1','MSOFT',1,50,2000)\n",
    "mold.AddScalar('M2','MSOFT',2,100,2000)"
   ]
  },
  {
   "cell_type": "code",
   "execution_count": 5,
   "metadata": {},
   "outputs": [
    {
     "name": "stdout",
     "output_type": "stream",
     "text": [
      "    mu_eff: 965.0\n",
      "      Ml12: 40000.0\n",
      "        M2: 2000.0\n",
      "        Tb: 1000.0\n",
      "        M1: 500.0\n",
      "      Ml22: 40000.0\n",
      "      tanB: 10.0\n",
      "     Kappa: 0.11\n",
      "    Lambda: 0.1\n",
      "      Mu32: 1000000.0\n",
      "      Mq32: 1000000.0\n",
      "        Tt: 1000.0\n",
      "      Ttau: 0.0\n",
      "   A_kappa: -36.0\n",
      "      Md32: 1000000.0\n",
      "      Me32: 40000.0\n",
      "      Me12: 40000.0\n",
      "      Ml32: 40000.0\n",
      "  A_Lambda: -1500.0\n",
      "      Me22: 40000.0\n"
     ]
    }
   ],
   "source": [
    "mold.GetValue('LesHouches.in.NMSSM_low',mapping=block_mapping)\n",
    "mold.Print()"
   ]
  },
  {
   "cell_type": "code",
   "execution_count": 6,
   "metadata": {},
   "outputs": [
    {
     "data": {
      "text/plain": [
       "['tanB',\n",
       " 'Lambda',\n",
       " 'Kappa',\n",
       " 'A_Lambda',\n",
       " 'A_kappa',\n",
       " 'mu_eff',\n",
       " 'M1',\n",
       " 'M2',\n",
       " 'Mq32',\n",
       " 'Mu32',\n",
       " 'Ml32',\n",
       " 'Tt',\n",
       " 'Tb',\n",
       " 'Ttau']"
      ]
     },
     "execution_count": 6,
     "metadata": {},
     "output_type": "execute_result"
    }
   ],
   "source": [
    "from command.data_transformer.defult_parameter_order import defult_name_order\n",
    "order=defult_name_order(mold.free_parameter_list)\n",
    "order"
   ]
  },
  {
   "cell_type": "code",
   "execution_count": 7,
   "metadata": {},
   "outputs": [
    {
     "data": {
      "text/plain": [
       "14"
      ]
     },
     "execution_count": 7,
     "metadata": {},
     "output_type": "execute_result"
    }
   ],
   "source": [
    "dimention=len(order)\n",
    "dimention"
   ]
  },
  {
   "cell_type": "markdown",
   "metadata": {},
   "source": [
    "### normalize & tabulate parameters from mold list to numpy array"
   ]
  },
  {
   "cell_type": "code",
   "execution_count": 8,
   "metadata": {},
   "outputs": [
    {
     "data": {
      "text/plain": [
       "(0, 1)"
      ]
     },
     "execution_count": 8,
     "metadata": {},
     "output_type": "execute_result"
    }
   ],
   "source": [
    "Norm=normalize(mold,order=order) # set operation scale=(a,b) to scale parameters to (a,b) range\n",
    "Norm.scale"
   ]
  },
  {
   "cell_type": "markdown",
   "metadata": {},
   "source": [
    "### make a input point queue\n",
    "*choose one*"
   ]
  },
  {
   "cell_type": "code",
   "execution_count": 8,
   "metadata": {},
   "outputs": [],
   "source": [
    "# Random points queue by scan's function: Sample\n",
    "RandSamples=GenerateQueue(mold,lenth=1000) "
   ]
  },
  {
   "cell_type": "code",
   "execution_count": 19,
   "metadata": {},
   "outputs": [],
   "source": [
    "# # Random points queue from numpy.random array\n",
    "# normal_array=numpy.random.rand(1000,dimention) \n",
    "# par_array=Norm.D(normal_array)\n",
    "# RandSamples=ArrayToInputQueue(par_array,mold,order=order)"
   ]
  },
  {
   "cell_type": "markdown",
   "metadata": {},
   "source": [
    "### multithread SPheno"
   ]
  },
  {
   "cell_type": "code",
   "execution_count": 9,
   "metadata": {},
   "outputs": [
    {
     "name": "stdout",
     "output_type": "stream",
     "text": [
      "SPheno file:\n",
      "->/home/heyangle/Desktop/ScanCraft/ScanCraft/packages/SPheno-4.0.3\n"
     ]
    }
   ],
   "source": [
    "MTS=MT_SPheno(threads=6,Renew=False)"
   ]
  },
  {
   "cell_type": "code",
   "execution_count": 9,
   "metadata": {
    "scrolled": true
   },
   "outputs": [
    {
     "name": "stdout",
     "output_type": "stream",
     "text": [
      "Calculations begin at Tue Jun 26 17:05:34 2018\n",
      "  threads:\t6\n",
      "  points:\t1000\n",
      "Thread-3 got 0 samples\n",
      "Thread-0 got 0 samples\n",
      "Thread-2 got 0 samples\n",
      "Thread-5 got 0 samples\n",
      "Thread-4 got 0 samples\n",
      "Thread-1 got 0 samples\n",
      "  thread-5\truning,        0 points left at Tue Jun 26 17:16:17 2018\n",
      "All points done. Use 0.183557 hours\n"
     ]
    },
    {
     "ename": "KeyError",
     "evalue": "'spectrum'",
     "output_type": "error",
     "traceback": [
      "\u001b[0;31m---------------------------------------------------------------------------\u001b[0m",
      "\u001b[0;31mKeyError\u001b[0m                                  Traceback (most recent call last)",
      "\u001b[0;32m<ipython-input-9-3d0c8cb37ae8>\u001b[0m in \u001b[0;36m<module>\u001b[0;34m()\u001b[0m\n\u001b[0;32m----> 1\u001b[0;31m \u001b[0mMTS\u001b[0m\u001b[0;34m.\u001b[0m\u001b[0mRun\u001b[0m\u001b[0;34m(\u001b[0m\u001b[0mRandSamples\u001b[0m\u001b[0;34m,\u001b[0m\u001b[0mreport_interval\u001b[0m\u001b[0;34m=\u001b[0m\u001b[0;36m1000\u001b[0m\u001b[0;34m)\u001b[0m\u001b[0;31m#,ReMake='NMSSM_sarah')\u001b[0m\u001b[0;34m\u001b[0m\u001b[0m\n\u001b[0m",
      "\u001b[0;32m~/Desktop/ScanCraft/ScanCraft/command/multi_thread/MT_SPheno.py\u001b[0m in \u001b[0;36mRun\u001b[0;34m(self, points, report_interval, timeout, ReMake)\u001b[0m\n\u001b[1;32m    169\u001b[0m                 \u001b[0;34m'spectrum'\u001b[0m  \u001b[0;34m:\u001b[0m\u001b[0mos\u001b[0m\u001b[0;34m.\u001b[0m\u001b[0mpath\u001b[0m\u001b[0;34m.\u001b[0m\u001b[0mjoin\u001b[0m\u001b[0;34m(\u001b[0m\u001b[0mself\u001b[0m\u001b[0;34m.\u001b[0m\u001b[0mrecord_dir\u001b[0m\u001b[0;34m,\u001b[0m\u001b[0;34m'SPheno.out.'\u001b[0m \u001b[0;34m+\u001b[0m \u001b[0mstr\u001b[0m\u001b[0;34m(\u001b[0m\u001b[0mnumber\u001b[0m\u001b[0;34m)\u001b[0m\u001b[0;34m)\u001b[0m\u001b[0;34m,\u001b[0m\u001b[0;34m\u001b[0m\u001b[0m\n\u001b[1;32m    170\u001b[0m             }\n\u001b[0;32m--> 171\u001b[0;31m             \u001b[0msample\u001b[0m\u001b[0;34m.\u001b[0m\u001b[0mCopyTo\u001b[0m\u001b[0;34m(\u001b[0m\u001b[0mdestinations\u001b[0m\u001b[0;34m)\u001b[0m\u001b[0;34m\u001b[0m\u001b[0m\n\u001b[0m\u001b[1;32m    172\u001b[0m         \u001b[0mprint\u001b[0m\u001b[0;34m(\u001b[0m\u001b[0;34m'%i sample recorded in %s'\u001b[0m \u001b[0;34m%\u001b[0m \u001b[0;34m(\u001b[0m\u001b[0mnumber\u001b[0m\u001b[0;34m+\u001b[0m\u001b[0;36m1\u001b[0m\u001b[0;34m,\u001b[0m\u001b[0mself\u001b[0m\u001b[0;34m.\u001b[0m\u001b[0mrecord_dir\u001b[0m\u001b[0;34m)\u001b[0m\u001b[0;34m)\u001b[0m\u001b[0;34m\u001b[0m\u001b[0m\n\u001b[1;32m    173\u001b[0m \u001b[0;34m\u001b[0m\u001b[0m\n",
      "\u001b[0;32m~/Desktop/ScanCraft/ScanCraft/command/format/data_container.py\u001b[0m in \u001b[0;36mCopyTo\u001b[0;34m(self, destinations)\u001b[0m\n\u001b[1;32m     28\u001b[0m         \u001b[0;32mfor\u001b[0m \u001b[0mkey\u001b[0m \u001b[0;32min\u001b[0m \u001b[0mkeys\u001b[0m\u001b[0;34m:\u001b[0m\u001b[0;34m\u001b[0m\u001b[0m\n\u001b[1;32m     29\u001b[0m             \u001b[0;32mtry\u001b[0m\u001b[0;34m:\u001b[0m\u001b[0;34m\u001b[0m\u001b[0m\n\u001b[0;32m---> 30\u001b[0;31m                 \u001b[0mshutil\u001b[0m\u001b[0;34m.\u001b[0m\u001b[0mcopy\u001b[0m\u001b[0;34m(\u001b[0m\u001b[0mself\u001b[0m\u001b[0;34m.\u001b[0m\u001b[0mdocuments\u001b[0m\u001b[0;34m[\u001b[0m\u001b[0mkey\u001b[0m\u001b[0;34m]\u001b[0m\u001b[0;34m,\u001b[0m\u001b[0mdestinations\u001b[0m\u001b[0;34m[\u001b[0m\u001b[0mkey\u001b[0m\u001b[0;34m]\u001b[0m\u001b[0;34m)\u001b[0m\u001b[0;34m\u001b[0m\u001b[0m\n\u001b[0m\u001b[1;32m     31\u001b[0m             \u001b[0;32mexcept\u001b[0m \u001b[0mTypeError\u001b[0m\u001b[0;34m:\u001b[0m\u001b[0;34m\u001b[0m\u001b[0m\n\u001b[1;32m     32\u001b[0m                 \u001b[0;32mif\u001b[0m \u001b[0mself\u001b[0m\u001b[0;34m.\u001b[0m\u001b[0mdocuments\u001b[0m\u001b[0;34m[\u001b[0m\u001b[0mkey\u001b[0m\u001b[0;34m]\u001b[0m \u001b[0;32mis\u001b[0m \u001b[0;32mNone\u001b[0m\u001b[0;34m:\u001b[0m\u001b[0;34m\u001b[0m\u001b[0m\n",
      "\u001b[0;31mKeyError\u001b[0m: 'spectrum'"
     ]
    }
   ],
   "source": [
    "MTS.Run(RandSamples,report_interval=1000)#,ReMake='NMSSM_sarah')"
   ]
  },
  {
   "cell_type": "markdown",
   "metadata": {},
   "source": [
    "*# read from record*"
   ]
  },
  {
   "cell_type": "code",
   "execution_count": 13,
   "metadata": {},
   "outputs": [
    {
     "data": {
      "text/plain": [
       "['record_180626_171635']"
      ]
     },
     "execution_count": 13,
     "metadata": {},
     "output_type": "execute_result"
    }
   ],
   "source": [
    "output_dir=MTS.harvest_dir\n",
    "os.listdir(output_dir)"
   ]
  },
  {
   "cell_type": "markdown",
   "metadata": {},
   "source": [
    "#### or read original samples"
   ]
  },
  {
   "cell_type": "code",
   "execution_count": 10,
   "metadata": {},
   "outputs": [
    {
     "name": "stdout",
     "output_type": "stream",
     "text": [
      "167 167\n"
     ]
    }
   ],
   "source": [
    "from command.file_operations.GetSamples import GetSamples\n",
    "samples=GetSamples(path='./output/record_180626_171635/',patterns=['in','out'])\n",
    "spectr_list=[]\n",
    "point_list=[]\n",
    "for sample in samples:\n",
    "    if len(sample.documents)==2:\n",
    "        sample.Merge(SPheno.Read(None,sample.documents['out']))\n",
    "        spectr_list.append(sample)\n",
    "        inp=deepcopy(mold)\n",
    "        inp.GetValue(sample.documents['in'],mapping=block_mapping)\n",
    "        point_list.append(inp)\n",
    "print(len(spectr_list),len(point_list))"
   ]
  },
  {
   "cell_type": "code",
   "execution_count": 11,
   "metadata": {
    "scrolled": false
   },
   "outputs": [
    {
     "data": {
      "text/html": [
       "<div>\n",
       "<style scoped>\n",
       "    .dataframe tbody tr th:only-of-type {\n",
       "        vertical-align: middle;\n",
       "    }\n",
       "\n",
       "    .dataframe tbody tr th {\n",
       "        vertical-align: top;\n",
       "    }\n",
       "\n",
       "    .dataframe thead tr th {\n",
       "        text-align: left;\n",
       "    }\n",
       "</style>\n",
       "<table border=\"1\" class=\"dataframe\">\n",
       "  <thead>\n",
       "    <tr>\n",
       "      <th>title</th>\n",
       "      <th colspan=\"14\" halign=\"left\">generation_1</th>\n",
       "    </tr>\n",
       "    <tr>\n",
       "      <th>block</th>\n",
       "      <th>MINPAR</th>\n",
       "      <th colspan=\"5\" halign=\"left\">EXTPAR</th>\n",
       "      <th colspan=\"2\" halign=\"left\">MSOFT</th>\n",
       "      <th>MSQ2</th>\n",
       "      <th>MSU2</th>\n",
       "      <th>MSL2</th>\n",
       "      <th>TU</th>\n",
       "      <th>TD</th>\n",
       "      <th>TE</th>\n",
       "    </tr>\n",
       "    <tr>\n",
       "      <th>code</th>\n",
       "      <th>3</th>\n",
       "      <th>61</th>\n",
       "      <th>62</th>\n",
       "      <th>63</th>\n",
       "      <th>64</th>\n",
       "      <th>65</th>\n",
       "      <th>1</th>\n",
       "      <th>2</th>\n",
       "      <th>(3, 3)</th>\n",
       "      <th>(3, 3)</th>\n",
       "      <th>(3, 3)</th>\n",
       "      <th>(3, 3)</th>\n",
       "      <th>(3, 3)</th>\n",
       "      <th>(3, 3)</th>\n",
       "    </tr>\n",
       "    <tr>\n",
       "      <th>name</th>\n",
       "      <th>tanB</th>\n",
       "      <th>Lambda</th>\n",
       "      <th>Kappa</th>\n",
       "      <th>A_Lambda</th>\n",
       "      <th>A_kappa</th>\n",
       "      <th>mu_eff</th>\n",
       "      <th>M1</th>\n",
       "      <th>M2</th>\n",
       "      <th>Mq32</th>\n",
       "      <th>Mu32</th>\n",
       "      <th>Ml32</th>\n",
       "      <th>Tt</th>\n",
       "      <th>Tb</th>\n",
       "      <th>Ttau</th>\n",
       "    </tr>\n",
       "  </thead>\n",
       "  <tbody>\n",
       "    <tr>\n",
       "      <th>0</th>\n",
       "      <td>27.672458</td>\n",
       "      <td>0.102620</td>\n",
       "      <td>0.131107</td>\n",
       "      <td>734.236108</td>\n",
       "      <td>-1210.995832</td>\n",
       "      <td>1182.715130</td>\n",
       "      <td>1760.206984</td>\n",
       "      <td>706.768164</td>\n",
       "      <td>2.171380e+06</td>\n",
       "      <td>1.906731e+06</td>\n",
       "      <td>1.692713e+06</td>\n",
       "      <td>95.973483</td>\n",
       "      <td>1600.336209</td>\n",
       "      <td>-1005.868844</td>\n",
       "    </tr>\n",
       "    <tr>\n",
       "      <th>1</th>\n",
       "      <td>2.924756</td>\n",
       "      <td>0.076024</td>\n",
       "      <td>0.169675</td>\n",
       "      <td>1173.376164</td>\n",
       "      <td>-235.757940</td>\n",
       "      <td>858.518302</td>\n",
       "      <td>1464.288135</td>\n",
       "      <td>1821.644835</td>\n",
       "      <td>2.907816e+06</td>\n",
       "      <td>3.784579e+05</td>\n",
       "      <td>3.215624e+06</td>\n",
       "      <td>-1799.516104</td>\n",
       "      <td>-639.962608</td>\n",
       "      <td>939.381852</td>\n",
       "    </tr>\n",
       "    <tr>\n",
       "      <th>2</th>\n",
       "      <td>53.664279</td>\n",
       "      <td>0.111940</td>\n",
       "      <td>0.194700</td>\n",
       "      <td>-1112.492015</td>\n",
       "      <td>-2280.884011</td>\n",
       "      <td>1354.994362</td>\n",
       "      <td>87.046530</td>\n",
       "      <td>662.821565</td>\n",
       "      <td>1.593503e+06</td>\n",
       "      <td>9.059607e+05</td>\n",
       "      <td>2.974304e+06</td>\n",
       "      <td>1882.305604</td>\n",
       "      <td>827.384057</td>\n",
       "      <td>-1165.733023</td>\n",
       "    </tr>\n",
       "  </tbody>\n",
       "</table>\n",
       "</div>"
      ],
      "text/plain": [
       "title generation_1                                                             \\\n",
       "block       MINPAR    EXTPAR                                                    \n",
       "code             3        61        62           63           64           65   \n",
       "name          tanB    Lambda     Kappa     A_Lambda      A_kappa       mu_eff   \n",
       "0        27.672458  0.102620  0.131107   734.236108 -1210.995832  1182.715130   \n",
       "1         2.924756  0.076024  0.169675  1173.376164  -235.757940   858.518302   \n",
       "2        53.664279  0.111940  0.194700 -1112.492015 -2280.884011  1354.994362   \n",
       "\n",
       "title                                                                      \\\n",
       "block        MSOFT                       MSQ2          MSU2          MSL2   \n",
       "code             1            2        (3, 3)        (3, 3)        (3, 3)   \n",
       "name            M1           M2          Mq32          Mu32          Ml32   \n",
       "0      1760.206984   706.768164  2.171380e+06  1.906731e+06  1.692713e+06   \n",
       "1      1464.288135  1821.644835  2.907816e+06  3.784579e+05  3.215624e+06   \n",
       "2        87.046530   662.821565  1.593503e+06  9.059607e+05  2.974304e+06   \n",
       "\n",
       "title                                         \n",
       "block           TU           TD           TE  \n",
       "code        (3, 3)       (3, 3)       (3, 3)  \n",
       "name            Tt           Tb         Ttau  \n",
       "0        95.973483  1600.336209 -1005.868844  \n",
       "1     -1799.516104  -639.962608   939.381852  \n",
       "2      1882.305604   827.384057 -1165.733023  "
      ]
     },
     "execution_count": 11,
     "metadata": {},
     "output_type": "execute_result"
    }
   ],
   "source": [
    "g_0=InputToPandas(point_list,order=order,title='generation_1')\n",
    "g_0[:3]"
   ]
  },
  {
   "cell_type": "code",
   "execution_count": 12,
   "metadata": {},
   "outputs": [
    {
     "name": "stdout",
     "output_type": "stream",
     "text": [
      "(167, 14)\n"
     ]
    }
   ],
   "source": [
    "g_0=Norm(g_0.values)\n",
    "print(g_0.shape)"
   ]
  },
  {
   "cell_type": "markdown",
   "metadata": {},
   "source": [
    "### Chisqure"
   ]
  },
  {
   "cell_type": "code",
   "execution_count": 57,
   "metadata": {},
   "outputs": [],
   "source": [
    "def Chisqure(sample):\n",
    "    X2_h=(sample.MASS[25]-125.01)**2/9\n",
    "    return X2_h"
   ]
  },
  {
   "cell_type": "code",
   "execution_count": 99,
   "metadata": {},
   "outputs": [],
   "source": [
    "X2s=numpy.array(list(map(Chisqure,spectr_list))).reshape(-1,1)"
   ]
  },
  {
   "cell_type": "code",
   "execution_count": 100,
   "metadata": {},
   "outputs": [],
   "source": [
    "# list(zip([s.MASS[25] for s in spectr_list],X2s))"
   ]
  },
  {
   "cell_type": "code",
   "execution_count": 102,
   "metadata": {},
   "outputs": [
    {
     "data": {
      "text/plain": [
       "(167, 1)"
      ]
     },
     "execution_count": 102,
     "metadata": {},
     "output_type": "execute_result"
    }
   ],
   "source": [
    "X2s.shape"
   ]
  },
  {
   "cell_type": "markdown",
   "metadata": {},
   "source": [
    "### Gene Algorithm"
   ]
  },
  {
   "cell_type": "code",
   "execution_count": 113,
   "metadata": {},
   "outputs": [],
   "source": [
    "from command.scan.GA import ga\n",
    "Gene=ga()"
   ]
  },
  {
   "cell_type": "code",
   "execution_count": 114,
   "metadata": {},
   "outputs": [
    {
     "data": {
      "text/plain": [
       "array([[4.52075558e-01, 1.01721262e-01, 1.30237003e-01, ...,\n",
       "        9.00084052e-01, 2.48532789e-01, 1.42405098e+01],\n",
       "       [3.26229821e-02, 7.50995170e-02, 1.68843451e-01, ...,\n",
       "        3.40009348e-01, 7.34845463e-01, 2.23888903e+01],\n",
       "       [8.92614901e-01, 1.11050911e-01, 1.93893965e-01, ...,\n",
       "        7.06846014e-01, 2.08566744e-01, 7.11741385e-01],\n",
       "       ...,\n",
       "       [1.51528892e-01, 9.80710217e-02, 1.68710139e-01, ...,\n",
       "        7.99404116e-01, 7.64570217e-01, 4.08845030e+00],\n",
       "       [1.81368265e-01, 5.49474672e-02, 1.11703798e-01, ...,\n",
       "        1.85166511e-01, 6.43496467e-02, 2.68420601e+00],\n",
       "       [7.46505075e-01, 3.45552027e-02, 5.05670807e-03, ...,\n",
       "        5.31274398e-01, 8.55113609e-01, 5.82979142e+02]])"
      ]
     },
     "execution_count": 114,
     "metadata": {},
     "output_type": "execute_result"
    }
   ],
   "source": [
    "storage_0=numpy.hstack([g_0,X2s])\n",
    "storage_0"
   ]
  },
  {
   "cell_type": "code",
   "execution_count": 115,
   "metadata": {},
   "outputs": [],
   "source": [
    "Gene.Generation_new(storage_0[:100])"
   ]
  },
  {
   "cell_type": "code",
   "execution_count": 123,
   "metadata": {},
   "outputs": [
    {
     "data": {
      "text/plain": [
       "array([[ 1.1598760e+01,  6.6014920e-02,  4.7707345e-01, ...,\n",
       "        -2.9280000e+02, -5.6540000e+02, -4.0764000e+02],\n",
       "       [ 2.9795540e+01,  7.2537400e-03,  2.5085890e-02, ...,\n",
       "         4.8320000e+01,  1.6454000e+03, -1.8756400e+03],\n",
       "       [ 1.8278740e+01,  4.5964990e-02,  3.0735334e-01, ...,\n",
       "         7.3096000e+02, -1.2965600e+03,  4.8416000e+02],\n",
       "       ...,\n",
       "       [ 4.1992610e+01,  1.1817271e-01,  6.3827110e-02, ...,\n",
       "         1.8822800e+03,  8.2736000e+02, -1.1665600e+03],\n",
       "       [ 1.1586960e+01,  6.6014920e-02,  4.7707345e-01, ...,\n",
       "         5.0932000e+02,  3.0820000e+02, -1.9513600e+03],\n",
       "       [ 1.0557410e+01,  1.2832255e-01,  5.9261680e-02, ...,\n",
       "         5.1120000e+01,  1.6454000e+03, -1.9956400e+03]])"
      ]
     },
     "execution_count": 123,
     "metadata": {},
     "output_type": "execute_result"
    }
   ],
   "source": [
    "g_N1=Gene.Generation_Next()\n",
    "g_N1=Norm.D(g_N1)\n",
    "g_N1 # new generation to be calculated"
   ]
  },
  {
   "cell_type": "code",
   "execution_count": 124,
   "metadata": {},
   "outputs": [],
   "source": [
    "newqueue=ArrayToInputQueue(g_N1,mold,order=order)"
   ]
  },
  {
   "cell_type": "code",
   "execution_count": 125,
   "metadata": {},
   "outputs": [
    {
     "name": "stdout",
     "output_type": "stream",
     "text": [
      "Calculations begin at Fri Jun 29 10:16:35 2018\n",
      "  threads:\t6\n",
      "  points:\t100\n",
      "  thread-0\truning,        0 points left at Fri Jun 29 10:16:36 2018\n",
      "All points done. Use 0.000080 hours\n",
      "0 sample recorded in ./output/record_180629_101636\n"
     ]
    },
    {
     "ename": "TypeError",
     "evalue": "'follower' object is not callable",
     "output_type": "error",
     "traceback": [
      "\u001b[0;31m---------------------------------------------------------------------------\u001b[0m",
      "\u001b[0;31mTypeError\u001b[0m                                 Traceback (most recent call last)",
      "\u001b[0;32m<ipython-input-125-2c8db25b6656>\u001b[0m in \u001b[0;36m<module>\u001b[0;34m()\u001b[0m\n\u001b[0;32m----> 1\u001b[0;31m \u001b[0mMTS\u001b[0m\u001b[0;34m.\u001b[0m\u001b[0mRun\u001b[0m\u001b[0;34m(\u001b[0m\u001b[0mnewqueue\u001b[0m\u001b[0;34m)\u001b[0m\u001b[0;34m\u001b[0m\u001b[0m\n\u001b[0m",
      "\u001b[0;32m~/Desktop/ScanCraft/ScanCraft/command/multi_thread/MT_SPheno.py\u001b[0m in \u001b[0;36mRun\u001b[0;34m(self, points, report_interval, timeout, ReMake)\u001b[0m\n\u001b[1;32m    171\u001b[0m             \u001b[0msample\u001b[0m\u001b[0;34m.\u001b[0m\u001b[0mCopyTo\u001b[0m\u001b[0;34m(\u001b[0m\u001b[0mdestinations\u001b[0m\u001b[0;34m)\u001b[0m\u001b[0;34m\u001b[0m\u001b[0m\n\u001b[1;32m    172\u001b[0m         \u001b[0mprint\u001b[0m\u001b[0;34m(\u001b[0m\u001b[0;34m'%i sample recorded in %s'\u001b[0m \u001b[0;34m%\u001b[0m \u001b[0;34m(\u001b[0m\u001b[0mnumber\u001b[0m\u001b[0;34m+\u001b[0m\u001b[0;36m1\u001b[0m\u001b[0;34m,\u001b[0m\u001b[0mself\u001b[0m\u001b[0;34m.\u001b[0m\u001b[0mrecord_dir\u001b[0m\u001b[0;34m)\u001b[0m\u001b[0;34m)\u001b[0m\u001b[0;34m\u001b[0m\u001b[0m\n\u001b[0;32m--> 173\u001b[0;31m         \u001b[0mexcluded_pdx\u001b[0m\u001b[0;34m=\u001b[0m\u001b[0mInputToPandas\u001b[0m\u001b[0;34m(\u001b[0m\u001b[0mself\u001b[0m\u001b[0;34m.\u001b[0m\u001b[0mexcluded_list\u001b[0m\u001b[0;34m,\u001b[0m\u001b[0mtitle\u001b[0m\u001b[0;34m=\u001b[0m\u001b[0;34m'excluded'\u001b[0m\u001b[0;34m)\u001b[0m\u001b[0;34m\u001b[0m\u001b[0m\n\u001b[0m\u001b[1;32m    174\u001b[0m         \u001b[0;32mtry\u001b[0m\u001b[0;34m:\u001b[0m\u001b[0;34m\u001b[0m\u001b[0m\n\u001b[1;32m    175\u001b[0m             \u001b[0mexcluded_pdx\u001b[0m\u001b[0;34m.\u001b[0m\u001b[0mtocsv\u001b[0m\u001b[0;34m(\u001b[0m\u001b[0mos\u001b[0m\u001b[0;34m.\u001b[0m\u001b[0mpath\u001b[0m\u001b[0;34m.\u001b[0m\u001b[0mjoin\u001b[0m\u001b[0;34m(\u001b[0m\u001b[0mself\u001b[0m\u001b[0;34m.\u001b[0m\u001b[0mharvest_dir\u001b[0m\u001b[0;34m,\u001b[0m\u001b[0;34mf'excluded_{self.record_time}.csv'\u001b[0m\u001b[0;34m)\u001b[0m\u001b[0;34m)\u001b[0m\u001b[0;34m\u001b[0m\u001b[0m\n",
      "\u001b[0;32m~/Desktop/ScanCraft/ScanCraft/command/data_transformer/InputToPandas.py\u001b[0m in \u001b[0;36mInputToPandas\u001b[0;34m(order, title, *point_list)\u001b[0m\n\u001b[1;32m     26\u001b[0m         \u001b[0marray_row\u001b[0m\u001b[0;34m=\u001b[0m\u001b[0;34m[\u001b[0m\u001b[0;34m]\u001b[0m\u001b[0;34m\u001b[0m\u001b[0m\n\u001b[1;32m     27\u001b[0m         \u001b[0;32mfor\u001b[0m \u001b[0mname\u001b[0m \u001b[0;32min\u001b[0m \u001b[0morder\u001b[0m\u001b[0;34m:\u001b[0m\u001b[0;34m\u001b[0m\u001b[0m\n\u001b[0;32m---> 28\u001b[0;31m             \u001b[0marray_row\u001b[0m\u001b[0;34m.\u001b[0m\u001b[0mappend\u001b[0m\u001b[0;34m(\u001b[0m\u001b[0mpoint\u001b[0m\u001b[0;34m.\u001b[0m\u001b[0mvariable_list\u001b[0m\u001b[0;34m[\u001b[0m\u001b[0mname\u001b[0m\u001b[0;34m]\u001b[0m\u001b[0;34m(\u001b[0m\u001b[0;34m)\u001b[0m\u001b[0;34m)\u001b[0m\u001b[0;34m\u001b[0m\u001b[0m\n\u001b[0m\u001b[1;32m     29\u001b[0m         \u001b[0mpar_array\u001b[0m\u001b[0;34m.\u001b[0m\u001b[0mappend\u001b[0m\u001b[0;34m(\u001b[0m\u001b[0marray_row\u001b[0m\u001b[0;34m)\u001b[0m\u001b[0;34m\u001b[0m\u001b[0m\n\u001b[1;32m     30\u001b[0m \u001b[0;34m\u001b[0m\u001b[0m\n",
      "\u001b[0;31mTypeError\u001b[0m: 'follower' object is not callable"
     ]
    }
   ],
   "source": [
    "MTS.Run(newqueue)"
   ]
  },
  {
   "cell_type": "code",
   "execution_count": null,
   "metadata": {},
   "outputs": [],
   "source": []
  }
 ],
 "metadata": {
  "kernelspec": {
   "display_name": "Python 3",
   "language": "python",
   "name": "python3"
  },
  "language_info": {
   "codemirror_mode": {
    "name": "ipython",
    "version": 3
   },
   "file_extension": ".py",
   "mimetype": "text/x-python",
   "name": "python",
   "nbconvert_exporter": "python",
   "pygments_lexer": "ipython3",
   "version": "3.6.5"
  }
 },
 "nbformat": 4,
 "nbformat_minor": 2
}
