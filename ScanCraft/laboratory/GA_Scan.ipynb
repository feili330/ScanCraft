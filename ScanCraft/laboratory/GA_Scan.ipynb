{
 "cells": [
  {
   "cell_type": "code",
   "execution_count": 1,
   "metadata": {},
   "outputs": [],
   "source": [
    "%matplotlib inline\n",
    "%load_ext autoreload\n",
    "%autoreload 2"
   ]
  },
  {
   "cell_type": "markdown",
   "metadata": {},
   "source": [
    "### add command path"
   ]
  },
  {
   "cell_type": "code",
   "execution_count": 2,
   "metadata": {},
   "outputs": [],
   "source": [
    "import sys,numpy,pandas,os\n",
    "from copy import deepcopy\n",
    "sys.path.append('/home/heyangle/Desktop/ScanCraft/ScanCraft')"
   ]
  },
  {
   "cell_type": "markdown",
   "metadata": {},
   "source": [
    "### import functions"
   ]
  },
  {
   "cell_type": "code",
   "execution_count": 20,
   "metadata": {},
   "outputs": [],
   "source": [
    "from command.nexus.SPheno import SPheno,block_mapping\n",
    "from command.scan.scan import scan\n",
    "from command.multi_thread.MT_SPheno import MT_SPheno\n",
    "from command.multi_thread.queue_operation import GenerateQueue # generate random queue\n",
    "from command.pytorch.normalize import normalize\n",
    "from command.operators.iterable import FlatToList\n",
    "from command.data_transformer.ArrayToInputQueue import ArrayToInputQueue\n",
    "from command.data_transformer.InputToPandas import InputToPandas"
   ]
  },
  {
   "cell_type": "code",
   "execution_count": 4,
   "metadata": {},
   "outputs": [],
   "source": [
    "mold=scan(method='random')\n",
    "# MinPar\n",
    "mold.AddScalar('tanB','MINPAR',3,1.,60.)\n",
    "# Extpar\n",
    "mold.AddScalar('Lambda','EXTPAR'  ,61  ,1e-3    ,1. ,prior_distribution='exponential')\n",
    "mold.AddScalar('Kappa','EXTPAR'   ,62 ,1.e-3    ,1. ,prior_distribution='exponential')\n",
    "mold.AddScalar('A_Lambda','EXTPAR' ,63,-3.e3,3.e3)\n",
    "mold.AddScalar('A_kappa','EXTPAR' ,64,-3.e3,3.e3)\n",
    "mold.AddScalar('mu_eff','EXTPAR'  ,65,100.,1500.)\n",
    "# Squark mass\n",
    "mold.AddElement( 'Mq32','MSQ2',(3,3),1e4,4e6)\n",
    "mold.AddElement( 'Mu32','MSU2',(3,3),1e4,4e6)\n",
    "mold.AddFollower('Md32','MSD2',(3,3),'Mu32')\n",
    "# Slepton mass\n",
    "mold.AddElement( 'Ml32','MSL2',(3,3),1e4,4e6)\n",
    "mold.AddFollower('Ml22','MSL2',(2,2),'Ml32')\n",
    "mold.AddFollower('Ml12','MSL2',(1,1),'Ml32')\n",
    "mold.AddFollower('Me32','MSE2',(3,3),'Ml32')\n",
    "mold.AddFollower('Me22','MSE2',(2,2),'Ml32')\n",
    "mold.AddFollower('Me12','MSE2',(1,1),'Ml32')\n",
    "# Yukawa\n",
    "mold.AddElement( 'Tt' ,'TU'  ,(3,3),-2000,2000)\n",
    "mold.AddElement( 'Tb' ,'TD'  ,(3,3),-2000,2000)\n",
    "mold.AddElement( 'Ttau' ,'TE'  ,(3,3),-2000,2000)\n",
    "# MSoft\n",
    "mold.AddScalar('M1','MSOFT',1,50,2000)\n",
    "mold.AddScalar('M2','MSOFT',2,100,2000)"
   ]
  },
  {
   "cell_type": "code",
   "execution_count": 5,
   "metadata": {},
   "outputs": [
    {
     "name": "stdout",
     "output_type": "stream",
     "text": [
      "   A_kappa: -36.0\n",
      "  A_Lambda: -1500.0\n",
      "      Ml12: 40000.0\n",
      "    mu_eff: 965.0\n",
      "    Lambda: 0.1\n",
      "     Kappa: 0.11\n",
      "      Me32: 40000.0\n",
      "      Ml32: 40000.0\n",
      "      Me22: 40000.0\n",
      "        Tt: 1000.0\n",
      "      Ml22: 40000.0\n",
      "      Md32: 1000000.0\n",
      "      Me12: 40000.0\n",
      "        Tb: 1000.0\n",
      "        M2: 2000.0\n",
      "      Ttau: 0.0\n",
      "      tanB: 10.0\n",
      "      Mu32: 1000000.0\n",
      "        M1: 500.0\n",
      "      Mq32: 1000000.0\n"
     ]
    }
   ],
   "source": [
    "mold.GetValue('LesHouches.in.NMSSM_low',mapping=block_mapping)\n",
    "mold.Print()"
   ]
  },
  {
   "cell_type": "code",
   "execution_count": 6,
   "metadata": {},
   "outputs": [
    {
     "data": {
      "text/plain": [
       "['tanB',\n",
       " 'Lambda',\n",
       " 'Kappa',\n",
       " 'A_Lambda',\n",
       " 'A_kappa',\n",
       " 'mu_eff',\n",
       " 'M1',\n",
       " 'M2',\n",
       " 'Mq32',\n",
       " 'Mu32',\n",
       " 'Ml32',\n",
       " 'Tt',\n",
       " 'Tb',\n",
       " 'Ttau']"
      ]
     },
     "execution_count": 6,
     "metadata": {},
     "output_type": "execute_result"
    }
   ],
   "source": [
    "order=FlatToList(map(lambda x: list(x.keys()),mold.free_parameter_list.maps))\n",
    "order"
   ]
  },
  {
   "cell_type": "code",
   "execution_count": 7,
   "metadata": {},
   "outputs": [
    {
     "data": {
      "text/plain": [
       "14"
      ]
     },
     "execution_count": 7,
     "metadata": {},
     "output_type": "execute_result"
    }
   ],
   "source": [
    "dimention=len(order)\n",
    "dimention"
   ]
  },
  {
   "cell_type": "markdown",
   "metadata": {},
   "source": [
    "### normalize & tabulate parameters from mold list to numpy array"
   ]
  },
  {
   "cell_type": "code",
   "execution_count": 10,
   "metadata": {},
   "outputs": [
    {
     "data": {
      "text/plain": [
       "(0, 1)"
      ]
     },
     "execution_count": 10,
     "metadata": {},
     "output_type": "execute_result"
    }
   ],
   "source": [
    "Norm=normalize(mold,order=order) # set operation scale=(a,b) to scale parameters to (a,b) range\n",
    "Norm.scale"
   ]
  },
  {
   "cell_type": "markdown",
   "metadata": {},
   "source": [
    "### make a input point queue\n",
    "*choose one*"
   ]
  },
  {
   "cell_type": "code",
   "execution_count": 8,
   "metadata": {},
   "outputs": [],
   "source": [
    "# Random points queue by scan's function: Sample\n",
    "RandSamples=GenerateQueue(mold,lenth=1000) "
   ]
  },
  {
   "cell_type": "code",
   "execution_count": 19,
   "metadata": {},
   "outputs": [],
   "source": [
    "# # Random points queue from numpy.random array\n",
    "# normal_array=numpy.random.rand(1000,dimention) \n",
    "# par_array=Norm.D(normal_array)\n",
    "# RandSamples=ArrayToInputQueue(par_array,mold,order=order)"
   ]
  },
  {
   "cell_type": "markdown",
   "metadata": {},
   "source": [
    "### multithread SPheno"
   ]
  },
  {
   "cell_type": "code",
   "execution_count": 8,
   "metadata": {},
   "outputs": [
    {
     "name": "stdout",
     "output_type": "stream",
     "text": [
      "SPheno file:\n",
      "->/home/heyangle/Desktop/ScanCraft/ScanCraft/packages/SPheno-4.0.3\n"
     ]
    }
   ],
   "source": [
    "MTS=MT_SPheno(threads=6,Renew=False)"
   ]
  },
  {
   "cell_type": "code",
   "execution_count": 9,
   "metadata": {
    "scrolled": true
   },
   "outputs": [
    {
     "name": "stdout",
     "output_type": "stream",
     "text": [
      "Calculations begin at Tue Jun 26 17:05:34 2018\n",
      "  threads:\t6\n",
      "  points:\t1000\n",
      "Thread-3 got 0 samples\n",
      "Thread-0 got 0 samples\n",
      "Thread-2 got 0 samples\n",
      "Thread-5 got 0 samples\n",
      "Thread-4 got 0 samples\n",
      "Thread-1 got 0 samples\n",
      "  thread-5\truning,        0 points left at Tue Jun 26 17:16:17 2018\n",
      "All points done. Use 0.183557 hours\n"
     ]
    },
    {
     "ename": "KeyError",
     "evalue": "'spectrum'",
     "output_type": "error",
     "traceback": [
      "\u001b[0;31m---------------------------------------------------------------------------\u001b[0m",
      "\u001b[0;31mKeyError\u001b[0m                                  Traceback (most recent call last)",
      "\u001b[0;32m<ipython-input-9-3d0c8cb37ae8>\u001b[0m in \u001b[0;36m<module>\u001b[0;34m()\u001b[0m\n\u001b[0;32m----> 1\u001b[0;31m \u001b[0mMTS\u001b[0m\u001b[0;34m.\u001b[0m\u001b[0mRun\u001b[0m\u001b[0;34m(\u001b[0m\u001b[0mRandSamples\u001b[0m\u001b[0;34m,\u001b[0m\u001b[0mreport_interval\u001b[0m\u001b[0;34m=\u001b[0m\u001b[0;36m1000\u001b[0m\u001b[0;34m)\u001b[0m\u001b[0;31m#,ReMake='NMSSM_sarah')\u001b[0m\u001b[0;34m\u001b[0m\u001b[0m\n\u001b[0m",
      "\u001b[0;32m~/Desktop/ScanCraft/ScanCraft/command/multi_thread/MT_SPheno.py\u001b[0m in \u001b[0;36mRun\u001b[0;34m(self, points, report_interval, timeout, ReMake)\u001b[0m\n\u001b[1;32m    169\u001b[0m                 \u001b[0;34m'spectrum'\u001b[0m  \u001b[0;34m:\u001b[0m\u001b[0mos\u001b[0m\u001b[0;34m.\u001b[0m\u001b[0mpath\u001b[0m\u001b[0;34m.\u001b[0m\u001b[0mjoin\u001b[0m\u001b[0;34m(\u001b[0m\u001b[0mself\u001b[0m\u001b[0;34m.\u001b[0m\u001b[0mrecord_dir\u001b[0m\u001b[0;34m,\u001b[0m\u001b[0;34m'SPheno.out.'\u001b[0m \u001b[0;34m+\u001b[0m \u001b[0mstr\u001b[0m\u001b[0;34m(\u001b[0m\u001b[0mnumber\u001b[0m\u001b[0;34m)\u001b[0m\u001b[0;34m)\u001b[0m\u001b[0;34m,\u001b[0m\u001b[0;34m\u001b[0m\u001b[0m\n\u001b[1;32m    170\u001b[0m             }\n\u001b[0;32m--> 171\u001b[0;31m             \u001b[0msample\u001b[0m\u001b[0;34m.\u001b[0m\u001b[0mCopyTo\u001b[0m\u001b[0;34m(\u001b[0m\u001b[0mdestinations\u001b[0m\u001b[0;34m)\u001b[0m\u001b[0;34m\u001b[0m\u001b[0m\n\u001b[0m\u001b[1;32m    172\u001b[0m         \u001b[0mprint\u001b[0m\u001b[0;34m(\u001b[0m\u001b[0;34m'%i sample recorded in %s'\u001b[0m \u001b[0;34m%\u001b[0m \u001b[0;34m(\u001b[0m\u001b[0mnumber\u001b[0m\u001b[0;34m+\u001b[0m\u001b[0;36m1\u001b[0m\u001b[0;34m,\u001b[0m\u001b[0mself\u001b[0m\u001b[0;34m.\u001b[0m\u001b[0mrecord_dir\u001b[0m\u001b[0;34m)\u001b[0m\u001b[0;34m)\u001b[0m\u001b[0;34m\u001b[0m\u001b[0m\n\u001b[1;32m    173\u001b[0m \u001b[0;34m\u001b[0m\u001b[0m\n",
      "\u001b[0;32m~/Desktop/ScanCraft/ScanCraft/command/format/data_container.py\u001b[0m in \u001b[0;36mCopyTo\u001b[0;34m(self, destinations)\u001b[0m\n\u001b[1;32m     28\u001b[0m         \u001b[0;32mfor\u001b[0m \u001b[0mkey\u001b[0m \u001b[0;32min\u001b[0m \u001b[0mkeys\u001b[0m\u001b[0;34m:\u001b[0m\u001b[0;34m\u001b[0m\u001b[0m\n\u001b[1;32m     29\u001b[0m             \u001b[0;32mtry\u001b[0m\u001b[0;34m:\u001b[0m\u001b[0;34m\u001b[0m\u001b[0m\n\u001b[0;32m---> 30\u001b[0;31m                 \u001b[0mshutil\u001b[0m\u001b[0;34m.\u001b[0m\u001b[0mcopy\u001b[0m\u001b[0;34m(\u001b[0m\u001b[0mself\u001b[0m\u001b[0;34m.\u001b[0m\u001b[0mdocuments\u001b[0m\u001b[0;34m[\u001b[0m\u001b[0mkey\u001b[0m\u001b[0;34m]\u001b[0m\u001b[0;34m,\u001b[0m\u001b[0mdestinations\u001b[0m\u001b[0;34m[\u001b[0m\u001b[0mkey\u001b[0m\u001b[0;34m]\u001b[0m\u001b[0;34m)\u001b[0m\u001b[0;34m\u001b[0m\u001b[0m\n\u001b[0m\u001b[1;32m     31\u001b[0m             \u001b[0;32mexcept\u001b[0m \u001b[0mTypeError\u001b[0m\u001b[0;34m:\u001b[0m\u001b[0;34m\u001b[0m\u001b[0m\n\u001b[1;32m     32\u001b[0m                 \u001b[0;32mif\u001b[0m \u001b[0mself\u001b[0m\u001b[0;34m.\u001b[0m\u001b[0mdocuments\u001b[0m\u001b[0;34m[\u001b[0m\u001b[0mkey\u001b[0m\u001b[0;34m]\u001b[0m \u001b[0;32mis\u001b[0m \u001b[0;32mNone\u001b[0m\u001b[0;34m:\u001b[0m\u001b[0;34m\u001b[0m\u001b[0m\n",
      "\u001b[0;31mKeyError\u001b[0m: 'spectrum'"
     ]
    }
   ],
   "source": [
    "MTS.Run(RandSamples,report_interval=1000)#,ReMake='NMSSM_sarah')"
   ]
  },
  {
   "cell_type": "code",
   "execution_count": 51,
   "metadata": {},
   "outputs": [],
   "source": []
  },
  {
   "cell_type": "code",
   "execution_count": 64,
   "metadata": {},
   "outputs": [
    {
     "name": "stdout",
     "output_type": "stream",
     "text": [
      "Lambda 0.1\n",
      "mu_eff 965.0\n",
      "tanB 10.0\n",
      "Mq32 1000000.0\n",
      "Tt 1000.0\n",
      "Md32 1000000.0\n",
      "A_Lambda -1500.0\n",
      "M1 500.0\n",
      "Ml22 40000.0\n",
      "Ml12 40000.0\n",
      "Ttau 0.0\n",
      "A_kappa -36.0\n",
      "Mu32 1000000.0\n",
      "Ml32 40000.0\n",
      "Me32 40000.0\n",
      "Me22 40000.0\n",
      "Me12 40000.0\n",
      "Tb 1000.0\n",
      "M2 2000.0\n",
      "Kappa 0.11\n"
     ]
    }
   ],
   "source": [
    "for k,v in mold.variable_list.items():\n",
    "    print(k,v.value)"
   ]
  },
  {
   "cell_type": "code",
   "execution_count": 73,
   "metadata": {},
   "outputs": [],
   "source": [
    "from collections import namedtuple\n",
    "from command.data_transformer.defult_parameter_order import defult_name_order"
   ]
  },
  {
   "cell_type": "code",
   "execution_count": 38,
   "metadata": {},
   "outputs": [],
   "source": [
    "ID=namedtuple('identity_tuple',['block','code','name'])"
   ]
  },
  {
   "cell_type": "code",
   "execution_count": 44,
   "metadata": {},
   "outputs": [],
   "source": [
    "l=ID('E',63,'Lambda')"
   ]
  },
  {
   "cell_type": "code",
   "execution_count": 79,
   "metadata": {},
   "outputs": [
    {
     "name": "stdout",
     "output_type": "stream",
     "text": [
      "63 64 A_Lambda A_kappa\n",
      "65 63 mu_eff A_Lambda\n",
      "61 65 Lambda mu_eff\n",
      "62 61 Kappa Lambda\n",
      "6 1 Ml32 Kappa\n",
      "7 6 Tt Ml32\n",
      "8 7 Tb Tt\n",
      "2 8 M2 Tb\n",
      "2 1 M2 Kappa\n",
      "2 7 M2 Tt\n",
      "2 6 M2 Ml32\n",
      "9 1 Ttau Kappa\n",
      "9 7 Ttau Tt\n",
      "9 8 Ttau Tb\n",
      "0 2 tanB M2\n",
      "0 1 tanB mu_eff\n",
      "0 1 tanB A_Lambda\n",
      "0 1 tanB A_kappa\n",
      "4 1 Mu32 Kappa\n",
      "4 7 Mu32 Tt\n",
      "4 6 Mu32 Ml32\n",
      "4 2 Mu32 M2\n",
      "1 2 M1 M2\n",
      "2 7 M1 Tt\n",
      "2 6 M1 Ml32\n",
      "2 4 M1 Mu32\n",
      "3 2 Mq32 M2\n",
      "3 7 Mq32 Tt\n",
      "3 4 Mq32 Mu32\n",
      "3 2 Mq32 M1\n"
     ]
    },
    {
     "data": {
      "text/plain": [
       "['tanB',\n",
       " 'A_kappa',\n",
       " 'A_Lambda',\n",
       " 'mu_eff',\n",
       " 'Lambda',\n",
       " 'Kappa',\n",
       " 'M2',\n",
       " 'M1',\n",
       " 'Mq32',\n",
       " 'Mu32',\n",
       " 'Ml32',\n",
       " 'Tt',\n",
       " 'Tb',\n",
       " 'Ttau']"
      ]
     },
     "execution_count": 79,
     "metadata": {},
     "output_type": "execute_result"
    }
   ],
   "source": [
    "defult_name_order(mold.free_parameter_list)"
   ]
  },
  {
   "cell_type": "code",
   "execution_count": 50,
   "metadata": {},
   "outputs": [
    {
     "data": {
      "text/plain": [
       "'E'"
      ]
     },
     "execution_count": 50,
     "metadata": {},
     "output_type": "execute_result"
    }
   ],
   "source": [
    "l[0]"
   ]
  },
  {
   "cell_type": "code",
   "execution_count": 68,
   "metadata": {},
   "outputs": [],
   "source": [
    "class ID(namedtuple('identity_tuple',['block','code','name'])):\n",
    "    __slots__=()\n",
    "    def __str__(self):\n",
    "        return f'{self.name:>10}:{self.block:>10}: {self.code}'"
   ]
  },
  {
   "cell_type": "code",
   "execution_count": 69,
   "metadata": {},
   "outputs": [],
   "source": [
    "l=ID('E',63,'Lambda')"
   ]
  },
  {
   "cell_type": "code",
   "execution_count": 70,
   "metadata": {},
   "outputs": [
    {
     "data": {
      "text/plain": [
       "'    Lambda:         E: 63'"
      ]
     },
     "execution_count": 70,
     "metadata": {},
     "output_type": "execute_result"
    }
   ],
   "source": [
    "str(l)"
   ]
  },
  {
   "cell_type": "code",
   "execution_count": 72,
   "metadata": {},
   "outputs": [
    {
     "data": {
      "text/plain": [
       "True"
      ]
     },
     "execution_count": 72,
     "metadata": {},
     "output_type": "execute_result"
    }
   ],
   "source": [
    "'1'<'a'"
   ]
  },
  {
   "cell_type": "code",
   "execution_count": null,
   "metadata": {},
   "outputs": [],
   "source": []
  }
 ],
 "metadata": {
  "kernelspec": {
   "display_name": "Python 3",
   "language": "python",
   "name": "python3"
  },
  "language_info": {
   "codemirror_mode": {
    "name": "ipython",
    "version": 3
   },
   "file_extension": ".py",
   "mimetype": "text/x-python",
   "name": "python",
   "nbconvert_exporter": "python",
   "pygments_lexer": "ipython3",
   "version": "3.6.5"
  }
 },
 "nbformat": 4,
 "nbformat_minor": 2
}
