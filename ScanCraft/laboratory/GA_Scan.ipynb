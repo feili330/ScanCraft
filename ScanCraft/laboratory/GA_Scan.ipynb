{
 "cells": [
  {
   "cell_type": "code",
   "execution_count": 1,
   "metadata": {},
   "outputs": [],
   "source": [
    "%matplotlib inline\n",
    "%load_ext autoreload\n",
    "%autoreload 2"
   ]
  },
  {
   "cell_type": "markdown",
   "metadata": {},
   "source": [
    "### add command path"
   ]
  },
  {
   "cell_type": "code",
   "execution_count": 2,
   "metadata": {},
   "outputs": [],
   "source": [
    "import sys,numpy,pandas,os\n",
    "from copy import deepcopy\n",
    "sys.path.append('/home/heyangle/Desktop/ScanCraft/ScanCraft')"
   ]
  },
  {
   "cell_type": "markdown",
   "metadata": {},
   "source": [
    "### import functions"
   ]
  },
  {
   "cell_type": "code",
   "execution_count": 28,
   "metadata": {},
   "outputs": [],
   "source": [
    "from command.nexus.SPheno import SPheno,block_mapping\n",
    "from command.scan.scan import scan\n",
    "from command.multi_thread.MT_SPheno import MT_SPheno\n",
    "from command.multi_thread.queue_operation import GenerateQueue # generate random queue\n",
    "from command.pytorch.normalize import normalize\n",
    "from command.operators.iterable import FlatToList\n",
    "from command.data_transformer.ArrayToInputQueue import ArrayToInputQueue\n",
    "from command.data_transformer.InputToPandas import InputToPandas"
   ]
  },
  {
   "cell_type": "code",
   "execution_count": 4,
   "metadata": {},
   "outputs": [],
   "source": [
    "mold=scan(method='random')\n",
    "# MinPar\n",
    "mold.AddScalar('tanB','MINPAR',3,1.,60.)\n",
    "# Extpar\n",
    "mold.AddScalar('Lambda','EXTPAR'  ,61  ,1e-3    ,1. ,prior_distribution='exponential')\n",
    "mold.AddScalar('Kappa','EXTPAR'   ,62 ,1.e-3    ,1. ,prior_distribution='exponential')\n",
    "mold.AddScalar('A_Lambda','EXTPAR' ,63,-3.e3,3.e3)\n",
    "mold.AddScalar('A_kappa','EXTPAR' ,64,-3.e3,3.e3)\n",
    "mold.AddScalar('mu_eff','EXTPAR'  ,65,100.,1500.)\n",
    "# Squark mass\n",
    "mold.AddElement( 'Mq32','MSQ2',(3,3),1e4,4e6)\n",
    "mold.AddElement( 'Mu32','MSU2',(3,3),1e4,4e6)\n",
    "mold.AddFollower('Md32','MSD2',(3,3),'Mu32')\n",
    "# Slepton mass\n",
    "mold.AddElement( 'Ml32','MSL2',(3,3),1e4,4e6)\n",
    "mold.AddFollower('Ml22','MSL2',(2,2),'Ml32')\n",
    "mold.AddFollower('Ml12','MSL2',(1,1),'Ml32')\n",
    "mold.AddFollower('Me32','MSE2',(3,3),'Ml32')\n",
    "mold.AddFollower('Me22','MSE2',(2,2),'Ml32')\n",
    "mold.AddFollower('Me12','MSE2',(1,1),'Ml32')\n",
    "# Yukawa\n",
    "mold.AddElement( 'Tt' ,'TU'  ,(3,3),-2000,2000)\n",
    "mold.AddElement( 'Tb' ,'TD'  ,(3,3),-2000,2000)\n",
    "mold.AddElement( 'Ttau' ,'TE'  ,(3,3),-2000,2000)\n",
    "# MSoft\n",
    "mold.AddScalar('M1','MSOFT',1,50,2000)\n",
    "mold.AddScalar('M2','MSOFT',2,100,2000)"
   ]
  },
  {
   "cell_type": "code",
   "execution_count": 5,
   "metadata": {},
   "outputs": [
    {
     "name": "stdout",
     "output_type": "stream",
     "text": [
      "     Kappa: 0.11\n",
      "        Tt: 1000.0\n",
      "      Ml22: 40000.0\n",
      "  A_Lambda: -1500.0\n",
      "        M2: 2000.0\n",
      "        Tb: 1000.0\n",
      "   A_kappa: -36.0\n",
      "      Ttau: 0.0\n",
      "      Me32: 40000.0\n",
      "      Me12: 40000.0\n",
      "      Mq32: 1000000.0\n",
      "      Ml32: 40000.0\n",
      "      Me22: 40000.0\n",
      "      Md32: 1000000.0\n",
      "    Lambda: 0.1\n",
      "        M1: 500.0\n",
      "    mu_eff: 965.0\n",
      "      Mu32: 1000000.0\n",
      "      tanB: 10.0\n",
      "      Ml12: 40000.0\n"
     ]
    }
   ],
   "source": [
    "mold.GetValue('LesHouches.in.NMSSM_low',mapping=block_mapping)\n",
    "mold.Print()"
   ]
  },
  {
   "cell_type": "code",
   "execution_count": 6,
   "metadata": {},
   "outputs": [
    {
     "data": {
      "text/plain": [
       "['tanB',\n",
       " 'Lambda',\n",
       " 'Kappa',\n",
       " 'A_Lambda',\n",
       " 'A_kappa',\n",
       " 'mu_eff',\n",
       " 'M1',\n",
       " 'M2',\n",
       " 'Mq32',\n",
       " 'Mu32',\n",
       " 'Ml32',\n",
       " 'Tt',\n",
       " 'Tb',\n",
       " 'Ttau']"
      ]
     },
     "execution_count": 6,
     "metadata": {},
     "output_type": "execute_result"
    }
   ],
   "source": [
    "order=FlatToList(map(lambda x: list(x.keys()),mold.free_parameter_list.maps))\n",
    "order"
   ]
  },
  {
   "cell_type": "code",
   "execution_count": 7,
   "metadata": {},
   "outputs": [
    {
     "data": {
      "text/plain": [
       "14"
      ]
     },
     "execution_count": 7,
     "metadata": {},
     "output_type": "execute_result"
    }
   ],
   "source": [
    "dimention=len(order)\n",
    "dimention"
   ]
  },
  {
   "cell_type": "markdown",
   "metadata": {},
   "source": [
    "### normalize & tabulate parameters from mold list to numpy array"
   ]
  },
  {
   "cell_type": "code",
   "execution_count": 8,
   "metadata": {},
   "outputs": [
    {
     "data": {
      "text/plain": [
       "(0, 1)"
      ]
     },
     "execution_count": 8,
     "metadata": {},
     "output_type": "execute_result"
    }
   ],
   "source": [
    "Norm=normalize(mold,order=order) # set operation scale=(a,b) to scale parameters to (a,b) range\n",
    "Norm.scale"
   ]
  },
  {
   "cell_type": "markdown",
   "metadata": {},
   "source": [
    "### make a input point queue\n",
    "*choose one*"
   ]
  },
  {
   "cell_type": "code",
   "execution_count": 8,
   "metadata": {},
   "outputs": [],
   "source": [
    "# Random points queue by scan's function: Sample\n",
    "RandSamples=GenerateQueue(mold,lenth=1000) "
   ]
  },
  {
   "cell_type": "code",
   "execution_count": 19,
   "metadata": {},
   "outputs": [],
   "source": [
    "# # Random points queue from numpy.random array\n",
    "# normal_array=numpy.random.rand(1000,dimention) \n",
    "# par_array=Norm.D(normal_array)\n",
    "# RandSamples=ArrayToInputQueue(par_array,mold,order=order)"
   ]
  },
  {
   "cell_type": "markdown",
   "metadata": {},
   "source": [
    "### multithread SPheno"
   ]
  },
  {
   "cell_type": "code",
   "execution_count": 9,
   "metadata": {},
   "outputs": [
    {
     "name": "stdout",
     "output_type": "stream",
     "text": [
      "SPheno file:\n",
      "->/home/heyangle/Desktop/ScanCraft/ScanCraft/packages/SPheno-4.0.3\n"
     ]
    }
   ],
   "source": [
    "MTS=MT_SPheno(threads=6,Renew=False)"
   ]
  },
  {
   "cell_type": "code",
   "execution_count": 9,
   "metadata": {
    "scrolled": true
   },
   "outputs": [
    {
     "name": "stdout",
     "output_type": "stream",
     "text": [
      "Calculations begin at Tue Jun 26 17:05:34 2018\n",
      "  threads:\t6\n",
      "  points:\t1000\n",
      "Thread-3 got 0 samples\n",
      "Thread-0 got 0 samples\n",
      "Thread-2 got 0 samples\n",
      "Thread-5 got 0 samples\n",
      "Thread-4 got 0 samples\n",
      "Thread-1 got 0 samples\n",
      "  thread-5\truning,        0 points left at Tue Jun 26 17:16:17 2018\n",
      "All points done. Use 0.183557 hours\n"
     ]
    },
    {
     "ename": "KeyError",
     "evalue": "'spectrum'",
     "output_type": "error",
     "traceback": [
      "\u001b[0;31m---------------------------------------------------------------------------\u001b[0m",
      "\u001b[0;31mKeyError\u001b[0m                                  Traceback (most recent call last)",
      "\u001b[0;32m<ipython-input-9-3d0c8cb37ae8>\u001b[0m in \u001b[0;36m<module>\u001b[0;34m()\u001b[0m\n\u001b[0;32m----> 1\u001b[0;31m \u001b[0mMTS\u001b[0m\u001b[0;34m.\u001b[0m\u001b[0mRun\u001b[0m\u001b[0;34m(\u001b[0m\u001b[0mRandSamples\u001b[0m\u001b[0;34m,\u001b[0m\u001b[0mreport_interval\u001b[0m\u001b[0;34m=\u001b[0m\u001b[0;36m1000\u001b[0m\u001b[0;34m)\u001b[0m\u001b[0;31m#,ReMake='NMSSM_sarah')\u001b[0m\u001b[0;34m\u001b[0m\u001b[0m\n\u001b[0m",
      "\u001b[0;32m~/Desktop/ScanCraft/ScanCraft/command/multi_thread/MT_SPheno.py\u001b[0m in \u001b[0;36mRun\u001b[0;34m(self, points, report_interval, timeout, ReMake)\u001b[0m\n\u001b[1;32m    169\u001b[0m                 \u001b[0;34m'spectrum'\u001b[0m  \u001b[0;34m:\u001b[0m\u001b[0mos\u001b[0m\u001b[0;34m.\u001b[0m\u001b[0mpath\u001b[0m\u001b[0;34m.\u001b[0m\u001b[0mjoin\u001b[0m\u001b[0;34m(\u001b[0m\u001b[0mself\u001b[0m\u001b[0;34m.\u001b[0m\u001b[0mrecord_dir\u001b[0m\u001b[0;34m,\u001b[0m\u001b[0;34m'SPheno.out.'\u001b[0m \u001b[0;34m+\u001b[0m \u001b[0mstr\u001b[0m\u001b[0;34m(\u001b[0m\u001b[0mnumber\u001b[0m\u001b[0;34m)\u001b[0m\u001b[0;34m)\u001b[0m\u001b[0;34m,\u001b[0m\u001b[0;34m\u001b[0m\u001b[0m\n\u001b[1;32m    170\u001b[0m             }\n\u001b[0;32m--> 171\u001b[0;31m             \u001b[0msample\u001b[0m\u001b[0;34m.\u001b[0m\u001b[0mCopyTo\u001b[0m\u001b[0;34m(\u001b[0m\u001b[0mdestinations\u001b[0m\u001b[0;34m)\u001b[0m\u001b[0;34m\u001b[0m\u001b[0m\n\u001b[0m\u001b[1;32m    172\u001b[0m         \u001b[0mprint\u001b[0m\u001b[0;34m(\u001b[0m\u001b[0;34m'%i sample recorded in %s'\u001b[0m \u001b[0;34m%\u001b[0m \u001b[0;34m(\u001b[0m\u001b[0mnumber\u001b[0m\u001b[0;34m+\u001b[0m\u001b[0;36m1\u001b[0m\u001b[0;34m,\u001b[0m\u001b[0mself\u001b[0m\u001b[0;34m.\u001b[0m\u001b[0mrecord_dir\u001b[0m\u001b[0;34m)\u001b[0m\u001b[0;34m)\u001b[0m\u001b[0;34m\u001b[0m\u001b[0m\n\u001b[1;32m    173\u001b[0m \u001b[0;34m\u001b[0m\u001b[0m\n",
      "\u001b[0;32m~/Desktop/ScanCraft/ScanCraft/command/format/data_container.py\u001b[0m in \u001b[0;36mCopyTo\u001b[0;34m(self, destinations)\u001b[0m\n\u001b[1;32m     28\u001b[0m         \u001b[0;32mfor\u001b[0m \u001b[0mkey\u001b[0m \u001b[0;32min\u001b[0m \u001b[0mkeys\u001b[0m\u001b[0;34m:\u001b[0m\u001b[0;34m\u001b[0m\u001b[0m\n\u001b[1;32m     29\u001b[0m             \u001b[0;32mtry\u001b[0m\u001b[0;34m:\u001b[0m\u001b[0;34m\u001b[0m\u001b[0m\n\u001b[0;32m---> 30\u001b[0;31m                 \u001b[0mshutil\u001b[0m\u001b[0;34m.\u001b[0m\u001b[0mcopy\u001b[0m\u001b[0;34m(\u001b[0m\u001b[0mself\u001b[0m\u001b[0;34m.\u001b[0m\u001b[0mdocuments\u001b[0m\u001b[0;34m[\u001b[0m\u001b[0mkey\u001b[0m\u001b[0;34m]\u001b[0m\u001b[0;34m,\u001b[0m\u001b[0mdestinations\u001b[0m\u001b[0;34m[\u001b[0m\u001b[0mkey\u001b[0m\u001b[0;34m]\u001b[0m\u001b[0;34m)\u001b[0m\u001b[0;34m\u001b[0m\u001b[0m\n\u001b[0m\u001b[1;32m     31\u001b[0m             \u001b[0;32mexcept\u001b[0m \u001b[0mTypeError\u001b[0m\u001b[0;34m:\u001b[0m\u001b[0;34m\u001b[0m\u001b[0m\n\u001b[1;32m     32\u001b[0m                 \u001b[0;32mif\u001b[0m \u001b[0mself\u001b[0m\u001b[0;34m.\u001b[0m\u001b[0mdocuments\u001b[0m\u001b[0;34m[\u001b[0m\u001b[0mkey\u001b[0m\u001b[0;34m]\u001b[0m \u001b[0;32mis\u001b[0m \u001b[0;32mNone\u001b[0m\u001b[0;34m:\u001b[0m\u001b[0;34m\u001b[0m\u001b[0m\n",
      "\u001b[0;31mKeyError\u001b[0m: 'spectrum'"
     ]
    }
   ],
   "source": [
    "MTS.Run(RandSamples,report_interval=1000)#,ReMake='NMSSM_sarah')"
   ]
  },
  {
   "cell_type": "markdown",
   "metadata": {},
   "source": [
    "*# read from record*"
   ]
  },
  {
   "cell_type": "code",
   "execution_count": 13,
   "metadata": {},
   "outputs": [
    {
     "data": {
      "text/plain": [
       "['record_180626_171635']"
      ]
     },
     "execution_count": 13,
     "metadata": {},
     "output_type": "execute_result"
    }
   ],
   "source": [
    "output_dir=MTS.harvest_dir\n",
    "os.listdir(output_dir)"
   ]
  },
  {
   "cell_type": "code",
   "execution_count": 52,
   "metadata": {},
   "outputs": [
    {
     "data": {
      "text/plain": [
       "168"
      ]
     },
     "execution_count": 52,
     "metadata": {},
     "output_type": "execute_result"
    }
   ],
   "source": [
    "# from command.file_operations.GetSamples import GetSamples\n",
    "# samples=GetSamples(path='./output/record_180626_171635/',patterns=['out'])\n",
    "# spectr_list=[]\n",
    "# for sample in samples:\n",
    "#     if 'out' in sample.documents:\n",
    "#         sample.Merge(SPheno.Read(None,sample.documents['out']))\n",
    "#         spectr_list.append(sample)"
   ]
  },
  {
   "cell_type": "markdown",
   "metadata": {},
   "source": [
    "### Chisqure"
   ]
  },
  {
   "cell_type": "code",
   "execution_count": 57,
   "metadata": {},
   "outputs": [],
   "source": [
    "def Chisqure(sample):\n",
    "    X2_h=(sample.MASS[25]-125.01)**2/9\n",
    "    return X2_h"
   ]
  },
  {
   "cell_type": "code",
   "execution_count": 69,
   "metadata": {},
   "outputs": [],
   "source": [
    "X2s=numpy.array(list(map(Chisqure,spectr_list)))"
   ]
  },
  {
   "cell_type": "code",
   "execution_count": 70,
   "metadata": {},
   "outputs": [
    {
     "data": {
      "text/plain": [
       "[(113.68902, 14.240509795600016),\n",
       " (110.81493, 22.3888902561),\n",
       " (122.479057, 0.7117413854721154),\n",
       " (113.850167, 13.837985843098792),\n",
       " (117.483461, 6.29430992428011),\n",
       " (113.515208, 14.68113812480712),\n",
       " (112.641666, 16.997298437284012),\n",
       " (93.6808613, 109.05721463153753),\n",
       " (116.571046, 7.912882734901796),\n",
       " (112.393885, 17.6851508548028),\n",
       " (117.36887, 6.487429741877785),\n",
       " (106.16894, 39.442837991511105),\n",
       " (115.951773, 9.116830709281004),\n",
       " (117.257381, 6.678122373240128),\n",
       " (112.971105, 16.103888091225027),\n",
       " (105.454059, 42.492758710609024),\n",
       " (106.911123, 36.39659429568101),\n",
       " (119.286102, 3.640334257156007),\n",
       " (116.985795, 7.154207320225017),\n",
       " (113.803374, 13.954274033764001),\n",
       " (112.873137, 16.367049275641012),\n",
       " (120.3635, 2.398884694444448),\n",
       " (118.514014, 4.688648234688447),\n",
       " (116.139941, 8.741994073720134),\n",
       " (105.176065, 43.70944195380283),\n",
       " (116.194413, 8.634952683841014),\n",
       " (108.109336, 31.7369381823218),\n",
       " (115.792635, 9.439979727025001),\n",
       " (117.374421, 6.478007407249012),\n",
       " (112.722813, 16.77499604144101),\n",
       " (116.018458, 8.983091948640464),\n",
       " (109.440056, 26.93590624034847),\n",
       " (111.521961, 20.214132896169),\n",
       " (116.64378, 7.777070787599998),\n",
       " (119.599421, 3.252707235026776),\n",
       " (121.443466, 1.413351641461781),\n",
       " (115.5317, 9.982018987777787),\n",
       " (114.213607, 12.951344645605467),\n",
       " (113.290489, 15.260770897680139),\n",
       " (101.064667, 63.70877472009881),\n",
       " (111.05819, 21.628111364011136),\n",
       " (114.840068, 11.491946320513783),\n",
       " (110.248222, 24.2122321912538),\n",
       " (100.177679, 68.51601847189347),\n",
       " (107.582266, 33.74732359719511),\n",
       " (107.299071, 34.85300067144903),\n",
       " (117.754055, 5.849859760336129),\n",
       " (104.343612, 47.455510329616054),\n",
       " (107.814815, 32.85270968713615),\n",
       " (118.484166, 4.731834377284005),\n",
       " (116.06465, 8.891031846944454),\n",
       " (108.994053, 28.501173145201037),\n",
       " (118.193231, 5.163148844373456),\n",
       " (117.163412, 6.840993693527131),\n",
       " (86.8822862, 161.52472884607903),\n",
       " (117.057384, 7.027122360384011),\n",
       " (75.8202078, 268.8484062976867),\n",
       " (120.641569, 2.1203543779734453),\n",
       " (111.008794, 21.78152993938181),\n",
       " (119.701987, 3.1305557786854474),\n",
       " (115.490368, 10.069265935047115),\n",
       " (120.194397, 2.5766702504010106),\n",
       " (115.128073, 10.85027569259212),\n",
       " (112.621325, 17.053252028402795),\n",
       " (114.876158, 11.410528186773782),\n",
       " (111.678339, 19.748131668769034),\n",
       " (82.1140535, 204.45135845898477),\n",
       " (114.415266, 12.472043170084007),\n",
       " (116.794647, 7.499113879401013),\n",
       " (114.964728, 11.211943283776025),\n",
       " (105.536142, 42.136793933796035),\n",
       " (110.263859, 24.160963821320138),\n",
       " (120.647667, 2.114438800321006),\n",
       " (119.52957, 3.337234776099998),\n",
       " (116.472168, 8.099397251136017),\n",
       " (116.707985, 7.658161451136132),\n",
       " (120.288849, 2.4765851960890064),\n",
       " (109.524489, 26.64456121456901),\n",
       " (111.630209, 19.890978578186814),\n",
       " (119.836071, 2.9743934774490013),\n",
       " (109.300325, 27.421543178402793),\n",
       " (112.278621, 18.009779026849014),\n",
       " (117.608254, 6.087315983168449),\n",
       " (116.321918, 8.386974315413795),\n",
       " (113.847191, 13.845367196720137),\n",
       " (100.287007, 67.91404254200546),\n",
       " (115.202064, 10.688400953344026),\n",
       " (108.737161, 29.422809902213462),\n",
       " (83.5760146, 190.7527940141571),\n",
       " (97.2654067, 85.52916193137835),\n",
       " (93.8678679, 107.75915463709458),\n",
       " (115.087101, 10.940436062689002),\n",
       " (86.2958422, 166.53177935147795),\n",
       " (117.845516, 5.703314554028447),\n",
       " (109.600184, 26.384714350428467),\n",
       " (117.246208, 6.697385135473794),\n",
       " (116.420839, 8.197076298213453),\n",
       " (88.3010595, 149.72736807028232),\n",
       " (121.354747, 1.484541610445446),\n",
       " (118.566741, 4.612842949009018),\n",
       " (117.428169, 6.387129034729014),\n",
       " (119.371731, 3.53223081292901),\n",
       " (121.466622, 1.3950586278760033),\n",
       " (119.821001, 2.9917456246667893),\n",
       " (121.610738, 1.28388690496045),\n",
       " (118.324344, 4.966444016704013),\n",
       " (98.8627438, 75.96433408760429),\n",
       " (116.337098, 8.357692122400458),\n",
       " (122.152211, 0.907439774280118),\n",
       " (114.403295, 12.500243439669456),\n",
       " (103.530277, 51.26427779519214),\n",
       " (119.442809, 3.443735070053455),\n",
       " (117.181643, 6.809241479938797),\n",
       " (119.400645, 3.49609594622501),\n",
       " (115.717101, 9.595330202689011),\n",
       " (121.56649, 1.317529013344447),\n",
       " (117.190509, 6.793826611008999),\n",
       " (119.910253, 2.8897132737787867),\n",
       " (115.674879, 9.682720453849003),\n",
       " (116.855332, 7.388734465580446),\n",
       " (114.761511, 11.670169642569014),\n",
       " (119.227953, 3.7146741678010073),\n",
       " (121.005863, 1.7814570127521112),\n",
       " (111.968772, 18.89706974977601),\n",
       " (114.634842, 11.960433724995998),\n",
       " (118.940296, 4.093478516401779),\n",
       " (122.59728, 0.6468019776000039),\n",
       " (110.287849, 24.082414451866814),\n",
       " (118.404913, 4.8474638086187944),\n",
       " (113.127307, 15.688710325805452),\n",
       " (121.222058, 1.5942782883737785),\n",
       " (114.71131, 11.784779524011128),\n",
       " (114.43117, 12.434627129877803),\n",
       " (121.88535, 1.0848264025000018),\n",
       " (114.863567, 11.438900291498781),\n",
       " (114.956309, 11.230744747053444),\n",
       " (113.819836, 13.913307816321803),\n",
       " (115.162017, 10.775863240920998),\n",
       " (121.263435, 1.5596388110250032),\n",
       " (115.5202, 10.006256004444449),\n",
       " (119.128009, 3.844202013786777),\n",
       " (104.94348, 44.740580545600054),\n",
       " (83.7530272, 189.12642273554886),\n",
       " (118.392144, 4.866224226304005),\n",
       " (120.186166, 2.585486051061783),\n",
       " (99.5916908, 71.78782695408945),\n",
       " (112.033854, 18.708929445924),\n",
       " (113.009949, 16.000136000289),\n",
       " (107.693646, 33.31734620592401),\n",
       " (117.789358, 5.793074543573797),\n",
       " (115.798599, 9.42776759808902),\n",
       " (113.939876, 13.616405041708461),\n",
       " (115.055302, 11.010668030133793),\n",
       " (110.929169, 22.029977961173458),\n",
       " (115.154407, 10.792523709072109),\n",
       " (88.1293303, 151.1315330578331),\n",
       " (108.523675, 30.199879111736138),\n",
       " (110.417306, 23.660746464181805),\n",
       " (115.369758, 10.326029535396001),\n",
       " (83.8738386, 188.0204194140945),\n",
       " (115.795346, 9.434427593301798),\n",
       " (116.121114, 8.779143813444),\n",
       " (117.327166, 6.558437585728444),\n",
       " (119.209129, 3.7389004842934455),\n",
       " (118.944025, 4.088450300069456),\n",
       " (120.094936, 2.6842060137884456),\n",
       " (52.575117, 582.9791416915212)]"
      ]
     },
     "execution_count": 70,
     "metadata": {},
     "output_type": "execute_result"
    }
   ],
   "source": [
    "list(zip([s.MASS[25] for s in spectr_list],X2s))"
   ]
  },
  {
   "cell_type": "code",
   "execution_count": 72,
   "metadata": {},
   "outputs": [
    {
     "data": {
      "text/plain": [
       "array([[ 14.2405098 ],\n",
       "       [ 22.38889026],\n",
       "       [  0.71174139],\n",
       "       [ 13.83798584],\n",
       "       [  6.29430992],\n",
       "       [ 14.68113812],\n",
       "       [ 16.99729844],\n",
       "       [109.05721463],\n",
       "       [  7.91288273],\n",
       "       [ 17.68515085],\n",
       "       [  6.48742974],\n",
       "       [ 39.44283799],\n",
       "       [  9.11683071],\n",
       "       [  6.67812237],\n",
       "       [ 16.10388809],\n",
       "       [ 42.49275871],\n",
       "       [ 36.3965943 ],\n",
       "       [  3.64033426],\n",
       "       [  7.15420732],\n",
       "       [ 13.95427403],\n",
       "       [ 16.36704928],\n",
       "       [  2.39888469],\n",
       "       [  4.68864823],\n",
       "       [  8.74199407],\n",
       "       [ 43.70944195],\n",
       "       [  8.63495268],\n",
       "       [ 31.73693818],\n",
       "       [  9.43997973],\n",
       "       [  6.47800741],\n",
       "       [ 16.77499604],\n",
       "       [  8.98309195],\n",
       "       [ 26.93590624],\n",
       "       [ 20.2141329 ],\n",
       "       [  7.77707079],\n",
       "       [  3.25270724],\n",
       "       [  1.41335164],\n",
       "       [  9.98201899],\n",
       "       [ 12.95134465],\n",
       "       [ 15.2607709 ],\n",
       "       [ 63.70877472],\n",
       "       [ 21.62811136],\n",
       "       [ 11.49194632],\n",
       "       [ 24.21223219],\n",
       "       [ 68.51601847],\n",
       "       [ 33.7473236 ],\n",
       "       [ 34.85300067],\n",
       "       [  5.84985976],\n",
       "       [ 47.45551033],\n",
       "       [ 32.85270969],\n",
       "       [  4.73183438],\n",
       "       [  8.89103185],\n",
       "       [ 28.50117315],\n",
       "       [  5.16314884],\n",
       "       [  6.84099369],\n",
       "       [161.52472885],\n",
       "       [  7.02712236],\n",
       "       [268.8484063 ],\n",
       "       [  2.12035438],\n",
       "       [ 21.78152994],\n",
       "       [  3.13055578],\n",
       "       [ 10.06926594],\n",
       "       [  2.57667025],\n",
       "       [ 10.85027569],\n",
       "       [ 17.05325203],\n",
       "       [ 11.41052819],\n",
       "       [ 19.74813167],\n",
       "       [204.45135846],\n",
       "       [ 12.47204317],\n",
       "       [  7.49911388],\n",
       "       [ 11.21194328],\n",
       "       [ 42.13679393],\n",
       "       [ 24.16096382],\n",
       "       [  2.1144388 ],\n",
       "       [  3.33723478],\n",
       "       [  8.09939725],\n",
       "       [  7.65816145],\n",
       "       [  2.4765852 ],\n",
       "       [ 26.64456121],\n",
       "       [ 19.89097858],\n",
       "       [  2.97439348],\n",
       "       [ 27.42154318],\n",
       "       [ 18.00977903],\n",
       "       [  6.08731598],\n",
       "       [  8.38697432],\n",
       "       [ 13.8453672 ],\n",
       "       [ 67.91404254],\n",
       "       [ 10.68840095],\n",
       "       [ 29.4228099 ],\n",
       "       [190.75279401],\n",
       "       [ 85.52916193],\n",
       "       [107.75915464],\n",
       "       [ 10.94043606],\n",
       "       [166.53177935],\n",
       "       [  5.70331455],\n",
       "       [ 26.38471435],\n",
       "       [  6.69738514],\n",
       "       [  8.1970763 ],\n",
       "       [149.72736807],\n",
       "       [  1.48454161],\n",
       "       [  4.61284295],\n",
       "       [  6.38712903],\n",
       "       [  3.53223081],\n",
       "       [  1.39505863],\n",
       "       [  2.99174562],\n",
       "       [  1.2838869 ],\n",
       "       [  4.96644402],\n",
       "       [ 75.96433409],\n",
       "       [  8.35769212],\n",
       "       [  0.90743977],\n",
       "       [ 12.50024344],\n",
       "       [ 51.2642778 ],\n",
       "       [  3.44373507],\n",
       "       [  6.80924148],\n",
       "       [  3.49609595],\n",
       "       [  9.5953302 ],\n",
       "       [  1.31752901],\n",
       "       [  6.79382661],\n",
       "       [  2.88971327],\n",
       "       [  9.68272045],\n",
       "       [  7.38873447],\n",
       "       [ 11.67016964],\n",
       "       [  3.71467417],\n",
       "       [  1.78145701],\n",
       "       [ 18.89706975],\n",
       "       [ 11.96043372],\n",
       "       [  4.09347852],\n",
       "       [  0.64680198],\n",
       "       [ 24.08241445],\n",
       "       [  4.84746381],\n",
       "       [ 15.68871033],\n",
       "       [  1.59427829],\n",
       "       [ 11.78477952],\n",
       "       [ 12.43462713],\n",
       "       [  1.0848264 ],\n",
       "       [ 11.43890029],\n",
       "       [ 11.23074475],\n",
       "       [ 13.91330782],\n",
       "       [ 10.77586324],\n",
       "       [  1.55963881],\n",
       "       [ 10.006256  ],\n",
       "       [  3.84420201],\n",
       "       [ 44.74058055],\n",
       "       [189.12642274],\n",
       "       [  4.86622423],\n",
       "       [  2.58548605],\n",
       "       [ 71.78782695],\n",
       "       [ 18.70892945],\n",
       "       [ 16.000136  ],\n",
       "       [ 33.31734621],\n",
       "       [  5.79307454],\n",
       "       [  9.4277676 ],\n",
       "       [ 13.61640504],\n",
       "       [ 11.01066803],\n",
       "       [ 22.02997796],\n",
       "       [ 10.79252371],\n",
       "       [151.13153306],\n",
       "       [ 30.19987911],\n",
       "       [ 23.66074646],\n",
       "       [ 10.32602954],\n",
       "       [188.02041941],\n",
       "       [  9.43442759],\n",
       "       [  8.77914381],\n",
       "       [  6.55843759],\n",
       "       [  3.73890048],\n",
       "       [  4.0884503 ],\n",
       "       [  2.68420601],\n",
       "       [582.97914169]])"
      ]
     },
     "execution_count": 72,
     "metadata": {},
     "output_type": "execute_result"
    }
   ],
   "source": [
    "X2s.reshape(-1,1)"
   ]
  },
  {
   "cell_type": "code",
   "execution_count": null,
   "metadata": {},
   "outputs": [],
   "source": []
  }
 ],
 "metadata": {
  "kernelspec": {
   "display_name": "Python 3",
   "language": "python",
   "name": "python3"
  },
  "language_info": {
   "codemirror_mode": {
    "name": "ipython",
    "version": 3
   },
   "file_extension": ".py",
   "mimetype": "text/x-python",
   "name": "python",
   "nbconvert_exporter": "python",
   "pygments_lexer": "ipython3",
   "version": "3.6.5"
  }
 },
 "nbformat": 4,
 "nbformat_minor": 2
}
